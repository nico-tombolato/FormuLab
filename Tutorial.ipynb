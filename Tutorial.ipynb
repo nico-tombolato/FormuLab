{
 "cells": [
  {
   "cell_type": "markdown",
   "metadata": {},
   "source": [
    "# Crear variables"
   ]
  },
  {
   "cell_type": "code",
   "execution_count": 19,
   "metadata": {},
   "outputs": [],
   "source": [
    "from formulab.objects import *"
   ]
  },
  {
   "cell_type": "markdown",
   "metadata": {},
   "source": [
    "Los objetos de tipo `objects.var` son variables que almacenan todos los atributos que tendría una variable estadística.\\\n",
    "Para inicializar, los argumentos necesarios son el nombre en formato string (puede contener subíndices y simbolos de latex, pero sin el backlash `\\`) y el conjunto de mediciones realizados en una lista o un `dict`.\\\n",
    "Tambien se puede introducir un único valor, pero en este caso no podra calcular nada"
   ]
  },
  {
   "cell_type": "code",
   "execution_count": 20,
   "metadata": {},
   "outputs": [
    {
     "data": {
      "text/latex": [
       "$\\displaystyle x_{m} = (1.10 \\pm 0.04) \\, c m$"
      ],
      "text/plain": [
       "<IPython.core.display.Math object>"
      ]
     },
     "metadata": {},
     "output_type": "display_data"
    },
    {
     "data": {
      "text/latex": [
       "$\\displaystyle \\text{Confidence interval of 95\\,\\%\\,:}\\quad x_{m \\, 95\\%}=(1.10 \\pm 0.13) \\, c m$"
      ],
      "text/plain": [
       "<IPython.core.display.Math object>"
      ]
     },
     "metadata": {},
     "output_type": "display_data"
    },
    {
     "data": {
      "text/latex": [
       "$\\displaystyle \\rho = (10.0 \\pm 0.4) \\, \\Omega m$"
      ],
      "text/plain": [
       "<IPython.core.display.Math object>"
      ]
     },
     "metadata": {},
     "output_type": "display_data"
    },
    {
     "data": {
      "text/latex": [
       "$\\displaystyle \\text{Confidence interval of 95\\,\\%\\,:}\\quad \\rho_{ \\, 95\\%}=(10.0 \\pm 1.2) \\, \\Omega m$"
      ],
      "text/plain": [
       "<IPython.core.display.Math object>"
      ]
     },
     "metadata": {},
     "output_type": "display_data"
    }
   ],
   "source": [
    "x = var('x_m', [1.1, 1.2, 1.1, 1.0], unit='cm')\n",
    "rho = var('rho', {'val': 10, 'sd': 1, 'n': 5}, unit='Omega m')"
   ]
  },
  {
   "cell_type": "markdown",
   "metadata": {},
   "source": [
    "Las posibles entradas del `dict` son: \n",
    "* `values`: Lista de valores (como los de `x`)\n",
    "* `val`: Valor medio\n",
    "* `sd`: Desviación estándar\n",
    "* `sdm`: Desviación estándar de la media\n",
    "* `n`: Cantidad de mediciones\n",
    "* `nu`: Grados de libertad\n",
    "* `u`: Incertidumbre\n",
    "* `valr`: Valor medio redondeado\n",
    "* `u_st`: Intervalo de confianza con t de Student\n",
    "\n",
    "Con los datos ingresados, el programa calculará toda la información posible. Si no se especifica, supondrá `nu = n-1`, si no se dió la desviación estándar `sd = sdm` y si se envía un único valor `n = 1`."
   ]
  },
  {
   "cell_type": "markdown",
   "metadata": {},
   "source": [
    "Hay argumentos adicionnales para la función:\n",
    "* `alpha`: El nivel de significancia para el intervalo de confianza con t de Student, el `default` es `0.05` y puede ser modificado permanentemente en el archivo `formulab/config.py`. `0` Evita que se calcule\n",
    "* `vbs`: El nivel de verbosidad, con `0` no mostrará nada al ejecutarse, `1` solo el valor final, `2` los pasos intermedios"
   ]
  },
  {
   "cell_type": "code",
   "execution_count": 21,
   "metadata": {},
   "outputs": [
    {
     "data": {
      "text/latex": [
       "$\\displaystyle \\overline{y_{2}} = 21.166666666666668 \\, \\mathtt{\\text{}}$"
      ],
      "text/plain": [
       "<IPython.core.display.Math object>"
      ]
     },
     "metadata": {},
     "output_type": "display_data"
    },
    {
     "data": {
      "text/latex": [
       "$\\displaystyle s_{y2} = 1.4719601443879746 \\quad s_{\\overline{y2}} = 0.6009252125773317 \\quad \\nu_{y2} = 5$"
      ],
      "text/plain": [
       "<IPython.core.display.Math object>"
      ]
     },
     "metadata": {},
     "output_type": "display_data"
    },
    {
     "data": {
      "text/latex": [
       "$\\displaystyle y_{2} = (21.2 \\pm 0.6) \\, \\mathtt{\\text{}}$"
      ],
      "text/plain": [
       "<IPython.core.display.Math object>"
      ]
     },
     "metadata": {},
     "output_type": "display_data"
    },
    {
     "data": {
      "text/latex": [
       "$\\displaystyle \\text{Confidence interval of 98\\,\\%\\,:}\\quad y_{2 \\, 98\\%}=(21.2 \\pm 2.0) \\, \\mathtt{\\text{}}$"
      ],
      "text/plain": [
       "<IPython.core.display.Math object>"
      ]
     },
     "metadata": {},
     "output_type": "display_data"
    }
   ],
   "source": [
    "y = var('y_2', [20,23,20,21,23,20], alpha=0.02, vbs=2)\n",
    "z = var('z', 1, vbs=0) #No se muestra porque vbs=0"
   ]
  },
  {
   "cell_type": "markdown",
   "metadata": {},
   "source": [
    "Acceder a los atributos de cada variable es simple, solo hay que llamarlos por su nombre, iguales a las entradas de `dict`."
   ]
  },
  {
   "cell_type": "code",
   "execution_count": 22,
   "metadata": {},
   "outputs": [
    {
     "data": {
      "text/plain": [
       "4"
      ]
     },
     "execution_count": 22,
     "metadata": {},
     "output_type": "execute_result"
    }
   ],
   "source": [
    "x.n"
   ]
  },
  {
   "cell_type": "code",
   "execution_count": 23,
   "metadata": {},
   "outputs": [
    {
     "data": {
      "text/plain": [
       "4"
      ]
     },
     "execution_count": 23,
     "metadata": {},
     "output_type": "execute_result"
    }
   ],
   "source": [
    "rho.nu"
   ]
  },
  {
   "cell_type": "code",
   "execution_count": 24,
   "metadata": {},
   "outputs": [
    {
     "data": {
      "text/plain": [
       "0.6009252125773317"
      ]
     },
     "execution_count": 24,
     "metadata": {},
     "output_type": "execute_result"
    }
   ],
   "source": [
    "y.sdm"
   ]
  },
  {
   "cell_type": "markdown",
   "metadata": {},
   "source": [
    "Y si se necesita el símbolo de la variable o de alguno de los atributos, hay que agregar `sym` previo al atributo."
   ]
  },
  {
   "cell_type": "code",
   "execution_count": 25,
   "metadata": {},
   "outputs": [
    {
     "data": {
      "text/latex": [
       "$\\displaystyle x_{m}$"
      ],
      "text/plain": [
       "x_{m}"
      ]
     },
     "execution_count": 25,
     "metadata": {},
     "output_type": "execute_result"
    }
   ],
   "source": [
    "x"
   ]
  },
  {
   "cell_type": "code",
   "execution_count": 26,
   "metadata": {},
   "outputs": [
    {
     "data": {
      "text/latex": [
       "$\\displaystyle \\nu_{\\rho}$"
      ],
      "text/plain": [
       "\\nu_{\\rho}"
      ]
     },
     "execution_count": 26,
     "metadata": {},
     "output_type": "execute_result"
    }
   ],
   "source": [
    "rho.sym.nu"
   ]
  },
  {
   "cell_type": "code",
   "execution_count": 27,
   "metadata": {},
   "outputs": [
    {
     "data": {
      "text/latex": [
       "$\\displaystyle s_{\\overline{y2}}$"
      ],
      "text/plain": [
       "s_{\\overline{y2}}"
      ]
     },
     "execution_count": 27,
     "metadata": {},
     "output_type": "execute_result"
    }
   ],
   "source": [
    "y.sym.sdm"
   ]
  },
  {
   "cell_type": "code",
   "execution_count": null,
   "metadata": {},
   "outputs": [],
   "source": []
  }
 ],
 "metadata": {
  "kernelspec": {
   "display_name": "Python 3",
   "language": "python",
   "name": "python3"
  },
  "language_info": {
   "codemirror_mode": {
    "name": "ipython",
    "version": 3
   },
   "file_extension": ".py",
   "mimetype": "text/x-python",
   "name": "python",
   "nbconvert_exporter": "python",
   "pygments_lexer": "ipython3",
   "version": "3.12.2"
  }
 },
 "nbformat": 4,
 "nbformat_minor": 2
}
