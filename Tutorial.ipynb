{
 "cells": [
  {
   "cell_type": "markdown",
   "metadata": {},
   "source": [
    "# Variables"
   ]
  },
  {
   "cell_type": "code",
   "execution_count": 1,
   "metadata": {},
   "outputs": [],
   "source": [
    "from formulab.objects import *"
   ]
  },
  {
   "cell_type": "markdown",
   "metadata": {},
   "source": [
    "Los objetos de tipo `objects.var` son variables que almacenan todos los atributos que tendría una variable estadística.\\\n",
    "Para inicializar, los argumentos necesarios son el nombre en formato string (puede contener subíndices y simbolos de latex, pero sin el backlash `\\`) y el conjunto de mediciones realizados en una lista o un `dict`.\\\n",
    "Tambien se puede introducir un único valor, pero en este caso no podra calcular nada."
   ]
  },
  {
   "cell_type": "code",
   "execution_count": 2,
   "metadata": {},
   "outputs": [
    {
     "data": {
      "text/latex": [
       "$\\displaystyle x_{m} = (1.10 \\pm 0.04) \\, m$"
      ],
      "text/plain": [
       "<IPython.core.display.Math object>"
      ]
     },
     "metadata": {},
     "output_type": "display_data"
    },
    {
     "data": {
      "text/latex": [
       "$\\displaystyle \\text{Confidence interval of 95\\,\\%\\,:}\\quad x_{m \\, 95\\%}=(1.10 \\pm 0.13) \\, m$"
      ],
      "text/plain": [
       "<IPython.core.display.Math object>"
      ]
     },
     "metadata": {},
     "output_type": "display_data"
    },
    {
     "data": {
      "text/latex": [
       "$\\displaystyle \\rho = (10.0 \\pm 0.4) \\, \\Omega m$"
      ],
      "text/plain": [
       "<IPython.core.display.Math object>"
      ]
     },
     "metadata": {},
     "output_type": "display_data"
    },
    {
     "data": {
      "text/latex": [
       "$\\displaystyle \\text{Confidence interval of 95\\,\\%\\,:}\\quad \\rho_{ \\, 95\\%}=(10.0 \\pm 1.2) \\, \\Omega m$"
      ],
      "text/plain": [
       "<IPython.core.display.Math object>"
      ]
     },
     "metadata": {},
     "output_type": "display_data"
    }
   ],
   "source": [
    "x = var('x_m', [1.1, 1.2, 1.1, 1.0], unit='m')\n",
    "rho = var('rho', {'val': 10, 'sd': 1, 'n': 5}, unit='Omega m')"
   ]
  },
  {
   "cell_type": "markdown",
   "metadata": {},
   "source": [
    "Las posibles entradas del `dict` son: \n",
    "* `values`: Lista de valores (como los de `x`)\n",
    "* `val`: Valor medio\n",
    "* `sd`: Desviación estándar\n",
    "* `sdm`: Desviación estándar de la media\n",
    "* `n`: Cantidad de mediciones\n",
    "* `nu`: Grados de libertad\n",
    "* `u`: Incertidumbre\n",
    "* `valr`: Valor medio redondeado\n",
    "* `u_st`: Intervalo de confianza con t de Student\n",
    "\n",
    "Con los datos ingresados, el programa calculará toda la información posible. Si no se especifica, supondrá `nu = n-1`, si no se dió la desviación estándar `sd = sdm` y si se envía un único valor `n = 1`."
   ]
  },
  {
   "cell_type": "markdown",
   "metadata": {},
   "source": [
    "Hay argumentos adicionnales para la función:\n",
    "* `alpha`: El nivel de significancia para el intervalo de confianza con t de Student, el `default` es `0.05` y puede ser modificado permanentemente en el archivo `formulab/config.py`. `0` Evita que se calcule\n",
    "* `vbs`: El nivel de verbosidad, con `0` no mostrará nada al ejecutarse, `1` solo el valor final, `2` los pasos intermedios"
   ]
  },
  {
   "cell_type": "code",
   "execution_count": 3,
   "metadata": {},
   "outputs": [
    {
     "data": {
      "text/latex": [
       "$\\displaystyle \\overline{y_{2}} = 21.166666666666668 \\, \\mathtt{\\text{}}$"
      ],
      "text/plain": [
       "<IPython.core.display.Math object>"
      ]
     },
     "metadata": {},
     "output_type": "display_data"
    },
    {
     "data": {
      "text/latex": [
       "$\\displaystyle s_{y2} = 1.4719601443879746 \\quad s_{\\overline{y2}} = 0.6009252125773317 \\quad \\nu_{y2} = 5$"
      ],
      "text/plain": [
       "<IPython.core.display.Math object>"
      ]
     },
     "metadata": {},
     "output_type": "display_data"
    },
    {
     "data": {
      "text/latex": [
       "$\\displaystyle y_{2} = (21.2 \\pm 0.6) \\, \\mathtt{\\text{}}$"
      ],
      "text/plain": [
       "<IPython.core.display.Math object>"
      ]
     },
     "metadata": {},
     "output_type": "display_data"
    },
    {
     "data": {
      "text/latex": [
       "$\\displaystyle \\text{Confidence interval of 98\\,\\%\\,:}\\quad y_{2 \\, 98\\%}=(21.2 \\pm 2.0) \\, \\mathtt{\\text{}}$"
      ],
      "text/plain": [
       "<IPython.core.display.Math object>"
      ]
     },
     "metadata": {},
     "output_type": "display_data"
    }
   ],
   "source": [
    "y = var('y_2', [20,23,20,21,23,20], alpha=0.02, vbs=2)\n",
    "z = var('z', 1, vbs=0) #No se muestra porque vbs=0"
   ]
  },
  {
   "cell_type": "markdown",
   "metadata": {},
   "source": [
    "Acceder a los atributos de cada variable es simple, solo hay que llamarlos por su nombre, iguales a las entradas de `dict`."
   ]
  },
  {
   "cell_type": "code",
   "execution_count": 4,
   "metadata": {},
   "outputs": [
    {
     "data": {
      "text/plain": [
       "4"
      ]
     },
     "execution_count": 4,
     "metadata": {},
     "output_type": "execute_result"
    }
   ],
   "source": [
    "x.n"
   ]
  },
  {
   "cell_type": "code",
   "execution_count": 5,
   "metadata": {},
   "outputs": [
    {
     "data": {
      "text/plain": [
       "4"
      ]
     },
     "execution_count": 5,
     "metadata": {},
     "output_type": "execute_result"
    }
   ],
   "source": [
    "rho.nu"
   ]
  },
  {
   "cell_type": "code",
   "execution_count": 6,
   "metadata": {},
   "outputs": [
    {
     "data": {
      "text/plain": [
       "0.6009252125773317"
      ]
     },
     "execution_count": 6,
     "metadata": {},
     "output_type": "execute_result"
    }
   ],
   "source": [
    "y.sdm"
   ]
  },
  {
   "cell_type": "markdown",
   "metadata": {},
   "source": [
    "Y si se necesita el símbolo de la variable o de alguno de los atributos, hay que agregar `sym` previo al atributo."
   ]
  },
  {
   "cell_type": "code",
   "execution_count": 7,
   "metadata": {},
   "outputs": [
    {
     "data": {
      "text/latex": [
       "$\\displaystyle x_{m}$"
      ],
      "text/plain": [
       "x_{m}"
      ]
     },
     "execution_count": 7,
     "metadata": {},
     "output_type": "execute_result"
    }
   ],
   "source": [
    "x"
   ]
  },
  {
   "cell_type": "code",
   "execution_count": 8,
   "metadata": {},
   "outputs": [
    {
     "data": {
      "text/latex": [
       "$\\displaystyle \\nu_{\\rho}$"
      ],
      "text/plain": [
       "\\nu_{\\rho}"
      ]
     },
     "execution_count": 8,
     "metadata": {},
     "output_type": "execute_result"
    }
   ],
   "source": [
    "rho.sym.nu"
   ]
  },
  {
   "cell_type": "code",
   "execution_count": 9,
   "metadata": {},
   "outputs": [
    {
     "data": {
      "text/latex": [
       "$\\displaystyle s_{\\overline{y2}}$"
      ],
      "text/plain": [
       "s_{\\overline{y2}}"
      ]
     },
     "execution_count": 9,
     "metadata": {},
     "output_type": "execute_result"
    }
   ],
   "source": [
    "y.sym.sdm"
   ]
  },
  {
   "cell_type": "markdown",
   "metadata": {},
   "source": [
    "También se puede volver a calcular una variable con el método `calc`, e imprimirla con el método `display`."
   ]
  },
  {
   "cell_type": "code",
   "execution_count": 10,
   "metadata": {},
   "outputs": [
    {
     "data": {
      "text/latex": [
       "$\\displaystyle z$"
      ],
      "text/plain": [
       "z"
      ]
     },
     "execution_count": 10,
     "metadata": {},
     "output_type": "execute_result"
    }
   ],
   "source": [
    "z.calc([5,5.1,4.9,5.5], vbs=0)"
   ]
  },
  {
   "cell_type": "code",
   "execution_count": 11,
   "metadata": {},
   "outputs": [
    {
     "data": {
      "text/latex": [
       "$\\displaystyle \\overline{z} = 5.125 \\, \\mathtt{\\text{}}$"
      ],
      "text/plain": [
       "<IPython.core.display.Math object>"
      ]
     },
     "metadata": {},
     "output_type": "display_data"
    },
    {
     "data": {
      "text/latex": [
       "$\\displaystyle s_{z} = 0.2629955639676582 \\quad s_{\\overline{z}} = 0.1314977819838291 \\quad \\nu_{z} = 3$"
      ],
      "text/plain": [
       "<IPython.core.display.Math object>"
      ]
     },
     "metadata": {},
     "output_type": "display_data"
    },
    {
     "data": {
      "text/latex": [
       "$\\displaystyle z = (5.1 \\pm 0.1) \\, \\mathtt{\\text{}}$"
      ],
      "text/plain": [
       "<IPython.core.display.Math object>"
      ]
     },
     "metadata": {},
     "output_type": "display_data"
    },
    {
     "data": {
      "text/latex": [
       "$\\displaystyle \\text{Confidence interval of 95\\,\\%\\,:}\\quad z_{ \\, 95\\%}=(5.1 \\pm 0.4) \\, \\mathtt{\\text{}}$"
      ],
      "text/plain": [
       "<IPython.core.display.Math object>"
      ]
     },
     "metadata": {},
     "output_type": "display_data"
    }
   ],
   "source": [
    "z.display(vbs=2)"
   ]
  },
  {
   "cell_type": "markdown",
   "metadata": {},
   "source": [
    "# Parámetros"
   ]
  },
  {
   "cell_type": "markdown",
   "metadata": {},
   "source": [
    "Para cantidades que no tienen incertidumbre, como constantes universales, o valores de referencia, se utiliza el objeto de tipo `objects.param`. Adicionalmente, la librería `sympy` (Ya importada en el primer bloque) tiene constantes almacenadas."
   ]
  },
  {
   "cell_type": "code",
   "execution_count": 12,
   "metadata": {},
   "outputs": [
    {
     "data": {
      "text/latex": [
       "$\\displaystyle c = 299792458 \\, \\frac{m}{s}$"
      ],
      "text/plain": [
       "<IPython.core.display.Math object>"
      ]
     },
     "metadata": {},
     "output_type": "display_data"
    }
   ],
   "source": [
    "c = param('c', 299792458, 'm/s')"
   ]
  },
  {
   "cell_type": "code",
   "execution_count": 13,
   "metadata": {},
   "outputs": [
    {
     "data": {
      "text/latex": [
       "$\\displaystyle c$"
      ],
      "text/plain": [
       "c"
      ]
     },
     "execution_count": 13,
     "metadata": {},
     "output_type": "execute_result"
    }
   ],
   "source": [
    "c"
   ]
  },
  {
   "cell_type": "code",
   "execution_count": 14,
   "metadata": {},
   "outputs": [
    {
     "data": {
      "text/plain": [
       "299792458"
      ]
     },
     "execution_count": 14,
     "metadata": {},
     "output_type": "execute_result"
    }
   ],
   "source": [
    "c.val"
   ]
  },
  {
   "cell_type": "code",
   "execution_count": 15,
   "metadata": {},
   "outputs": [
    {
     "data": {
      "text/latex": [
       "$\\displaystyle \\pi$"
      ],
      "text/plain": [
       "pi"
      ]
     },
     "execution_count": 15,
     "metadata": {},
     "output_type": "execute_result"
    }
   ],
   "source": [
    "sp.pi"
   ]
  },
  {
   "cell_type": "markdown",
   "metadata": {},
   "source": [
    "# Funciones"
   ]
  },
  {
   "cell_type": "markdown",
   "metadata": {},
   "source": [
    "Una funcion de tipo `objects.func` es inicializada de forma similar a una variable, indicando el nombre y la expresión es suficiente. Será automáticamente evaluada por defecto"
   ]
  },
  {
   "cell_type": "code",
   "execution_count": 16,
   "metadata": {},
   "outputs": [
    {
     "data": {
      "text/latex": [
       "$\\displaystyle f = \\frac{\\rho}{x_{m}}$"
      ],
      "text/plain": [
       "<IPython.core.display.Math object>"
      ]
     },
     "metadata": {},
     "output_type": "display_data"
    },
    {
     "data": {
      "text/latex": [
       "$\\displaystyle f({x_{m}: 1.1, \\rho: 10}) = 9.09090909090909 \\, \\Omega$"
      ],
      "text/plain": [
       "<IPython.core.display.Math object>"
      ]
     },
     "metadata": {},
     "output_type": "display_data"
    },
    {
     "data": {
      "text/latex": [
       "$\\displaystyle \\frac{\\partial f}{\\partial x_{m}} = - \\frac{\\rho}{x_{m}^{2}} = -8.26446280991735 \\, \\frac{\\Omega}{m}$"
      ],
      "text/plain": [
       "<IPython.core.display.Math object>"
      ]
     },
     "metadata": {},
     "output_type": "display_data"
    },
    {
     "data": {
      "text/latex": [
       "$\\displaystyle \\frac{\\partial f}{\\partial \\rho} = \\frac{1}{x_{m}} = 0.909090909090909 \\, \\frac{1}{m}$"
      ],
      "text/plain": [
       "<IPython.core.display.Math object>"
      ]
     },
     "metadata": {},
     "output_type": "display_data"
    },
    {
     "data": {
      "text/latex": [
       "$\\displaystyle s_{\\overline{f}} = \\sqrt{\\frac{\\partial f}{\\partial \\rho}^{2} s_{\\overline{\\rho}}^{2} + \\frac{\\partial f}{\\partial x_{m}}^{2} s_{\\overline{xm}}^{2}}$"
      ],
      "text/plain": [
       "<IPython.core.display.Math object>"
      ]
     },
     "metadata": {},
     "output_type": "display_data"
    },
    {
     "data": {
      "text/latex": [
       "$\\displaystyle s_{\\overline{f}} = 0.528322659075423 \\, \\Omega$"
      ],
      "text/plain": [
       "<IPython.core.display.Math object>"
      ]
     },
     "metadata": {},
     "output_type": "display_data"
    },
    {
     "data": {
      "text/latex": [
       "$\\displaystyle f = (9.1 \\pm 0.5) \\, \\Omega$"
      ],
      "text/plain": [
       "<IPython.core.display.Math object>"
      ]
     },
     "metadata": {},
     "output_type": "display_data"
    },
    {
     "data": {
      "text/latex": [
       "$\\displaystyle \\nu_{f} = \\frac{s_{\\overline{f}}^{4}}{\\frac{\\frac{\\partial f}{\\partial \\rho}^{4} s_{\\overline{\\rho}}^{4}}{\\nu_{\\rho}} + \\frac{\\frac{\\partial f}{\\partial x_{m}}^{4} s_{\\overline{xm}}^{4}}{\\nu_{xm}}} = 6.98772522225855 \\approx 6$"
      ],
      "text/plain": [
       "<IPython.core.display.Math object>"
      ]
     },
     "metadata": {},
     "output_type": "display_data"
    },
    {
     "data": {
      "text/latex": [
       "$\\displaystyle \\text{Confidence interval of 95\\,\\%\\,:}\\quad f_{ \\, 95\\%}=(9.1 \\pm 1.3) \\, \\Omega$"
      ],
      "text/plain": [
       "<IPython.core.display.Math object>"
      ]
     },
     "metadata": {},
     "output_type": "display_data"
    }
   ],
   "source": [
    "f = func('f', rho/x, 'Omega', vbs=2)"
   ]
  },
  {
   "cell_type": "markdown",
   "metadata": {},
   "source": [
    "Sus argumentos adicionales son:\n",
    "* `alpha`: Ya mencionado\n",
    "* `calcEv`: Evaluar la expresión, `True` o `False`\n",
    "* `calcU`: Calcular la incertidumbre (mediante propagación con derivadas parciales)\n",
    "* `vbs`: Ya mencionado"
   ]
  },
  {
   "cell_type": "markdown",
   "metadata": {},
   "source": [
    "Para evaluarla con otros valores se llama a la función directamente con un `dict` indicando los nuevos valores, utilizara los iniciales para aquellos que no sean específicados, retorna `dict` o `list` de `dict` (esto último si fue evaluado en una lista de valores)."
   ]
  },
  {
   "cell_type": "code",
   "execution_count": 17,
   "metadata": {},
   "outputs": [
    {
     "data": {
      "text/latex": [
       "$\\displaystyle f = (3.3 \\pm 0.2) \\, \\Omega$"
      ],
      "text/plain": [
       "<IPython.core.display.Math object>"
      ]
     },
     "metadata": {},
     "output_type": "display_data"
    },
    {
     "data": {
      "text/latex": [
       "$\\displaystyle \\text{Confidence interval of 95\\,\\%\\,:}\\quad f_{ \\, 95\\%}=(3.3 \\pm 0.4) \\, \\Omega$"
      ],
      "text/plain": [
       "<IPython.core.display.Math object>"
      ]
     },
     "metadata": {},
     "output_type": "display_data"
    }
   ],
   "source": [
    "f_1 = f({x: 3})"
   ]
  },
  {
   "cell_type": "code",
   "execution_count": 18,
   "metadata": {},
   "outputs": [
    {
     "data": {
      "text/latex": [
       "$\\displaystyle \\text{Evaluating in}\\quad {\\rho: 1}$"
      ],
      "text/plain": [
       "<IPython.core.display.Math object>"
      ]
     },
     "metadata": {},
     "output_type": "display_data"
    },
    {
     "data": {
      "text/latex": [
       "$\\displaystyle f = \\frac{\\rho}{x_{m}}$"
      ],
      "text/plain": [
       "<IPython.core.display.Math object>"
      ]
     },
     "metadata": {},
     "output_type": "display_data"
    },
    {
     "data": {
      "text/latex": [
       "$\\displaystyle f({x_{m}: 1.1, \\rho: 1}) = 0.909090909090909 \\, \\Omega$"
      ],
      "text/plain": [
       "<IPython.core.display.Math object>"
      ]
     },
     "metadata": {},
     "output_type": "display_data"
    },
    {
     "data": {
      "text/latex": [
       "$\\displaystyle \\frac{\\partial f}{\\partial x_{m}} = - \\frac{\\rho}{x_{m}^{2}} = -0.826446280991735 \\, \\frac{\\Omega}{m}$"
      ],
      "text/plain": [
       "<IPython.core.display.Math object>"
      ]
     },
     "metadata": {},
     "output_type": "display_data"
    },
    {
     "data": {
      "text/latex": [
       "$\\displaystyle \\frac{\\partial f}{\\partial \\rho} = \\frac{1}{x_{m}} = 0.909090909090909 \\, \\frac{1}{m}$"
      ],
      "text/plain": [
       "<IPython.core.display.Math object>"
      ]
     },
     "metadata": {},
     "output_type": "display_data"
    },
    {
     "data": {
      "text/latex": [
       "$\\displaystyle s_{\\overline{f}} = \\sqrt{\\frac{\\partial f}{\\partial \\rho}^{2} s_{\\overline{\\rho}}^{2} + \\frac{\\partial f}{\\partial x_{m}}^{2} s_{\\overline{xm}}^{2}}$"
      ],
      "text/plain": [
       "<IPython.core.display.Math object>"
      ]
     },
     "metadata": {},
     "output_type": "display_data"
    },
    {
     "data": {
      "text/latex": [
       "$\\displaystyle s_{\\overline{f}} = 8.27445676722680 \\, \\Omega$"
      ],
      "text/plain": [
       "<IPython.core.display.Math object>"
      ]
     },
     "metadata": {},
     "output_type": "display_data"
    },
    {
     "data": {
      "text/latex": [
       "$\\displaystyle f = (1 \\pm 8) \\, \\Omega$"
      ],
      "text/plain": [
       "<IPython.core.display.Math object>"
      ]
     },
     "metadata": {},
     "output_type": "display_data"
    },
    {
     "data": {
      "text/latex": [
       "$\\displaystyle \\nu_{f} = \\frac{s_{\\overline{f}}^{4}}{\\frac{\\frac{\\partial f}{\\partial \\rho}^{4} s_{\\overline{\\rho}}^{4}}{\\nu_{\\rho}} + \\frac{\\frac{\\partial f}{\\partial x_{m}}^{4} s_{\\overline{xm}}^{4}}{\\nu_{xm}}} = 3.01452432850479 \\approx 3$"
      ],
      "text/plain": [
       "<IPython.core.display.Math object>"
      ]
     },
     "metadata": {},
     "output_type": "display_data"
    },
    {
     "data": {
      "text/latex": [
       "$\\displaystyle \\text{Confidence interval of 95\\,\\%\\,:}\\quad f_{ \\, 95\\%}=(1 \\pm 26) \\, \\Omega$"
      ],
      "text/plain": [
       "<IPython.core.display.Math object>"
      ]
     },
     "metadata": {},
     "output_type": "display_data"
    },
    {
     "data": {
      "text/latex": [
       "$\\displaystyle \\text{Evaluating in}\\quad {\\rho: 2}$"
      ],
      "text/plain": [
       "<IPython.core.display.Math object>"
      ]
     },
     "metadata": {},
     "output_type": "display_data"
    },
    {
     "data": {
      "text/latex": [
       "$\\displaystyle f = \\frac{\\rho}{x_{m}}$"
      ],
      "text/plain": [
       "<IPython.core.display.Math object>"
      ]
     },
     "metadata": {},
     "output_type": "display_data"
    },
    {
     "data": {
      "text/latex": [
       "$\\displaystyle f({x_{m}: 1.1, \\rho: 2}) = 1.81818181818182 \\, \\Omega$"
      ],
      "text/plain": [
       "<IPython.core.display.Math object>"
      ]
     },
     "metadata": {},
     "output_type": "display_data"
    },
    {
     "data": {
      "text/latex": [
       "$\\displaystyle \\frac{\\partial f}{\\partial x_{m}} = - \\frac{\\rho}{x_{m}^{2}} = -1.65289256198347 \\, \\frac{\\Omega}{m}$"
      ],
      "text/plain": [
       "<IPython.core.display.Math object>"
      ]
     },
     "metadata": {},
     "output_type": "display_data"
    },
    {
     "data": {
      "text/latex": [
       "$\\displaystyle \\frac{\\partial f}{\\partial \\rho} = \\frac{1}{x_{m}} = 0.909090909090909 \\, \\frac{1}{m}$"
      ],
      "text/plain": [
       "<IPython.core.display.Math object>"
      ]
     },
     "metadata": {},
     "output_type": "display_data"
    },
    {
     "data": {
      "text/latex": [
       "$\\displaystyle s_{\\overline{f}} = \\sqrt{\\frac{\\partial f}{\\partial \\rho}^{2} s_{\\overline{\\rho}}^{2} + \\frac{\\partial f}{\\partial x_{m}}^{2} s_{\\overline{xm}}^{2}}$"
      ],
      "text/plain": [
       "<IPython.core.display.Math object>"
      ]
     },
     "metadata": {},
     "output_type": "display_data"
    },
    {
     "data": {
      "text/latex": [
       "$\\displaystyle s_{\\overline{f}} = 16.5339248638134 \\, \\Omega$"
      ],
      "text/plain": [
       "<IPython.core.display.Math object>"
      ]
     },
     "metadata": {},
     "output_type": "display_data"
    },
    {
     "data": {
      "text/latex": [
       "$\\displaystyle f = (0 \\pm 20) \\, \\Omega$"
      ],
      "text/plain": [
       "<IPython.core.display.Math object>"
      ]
     },
     "metadata": {},
     "output_type": "display_data"
    },
    {
     "data": {
      "text/latex": [
       "$\\displaystyle \\nu_{f} = \\frac{s_{\\overline{f}}^{4}}{\\frac{\\frac{\\partial f}{\\partial \\rho}^{4} s_{\\overline{\\rho}}^{4}}{\\nu_{\\rho}} + \\frac{\\frac{\\partial f}{\\partial x_{m}}^{4} s_{\\overline{xm}}^{4}}{\\nu_{xm}}} = 3.00363027352217 \\approx 3$"
      ],
      "text/plain": [
       "<IPython.core.display.Math object>"
      ]
     },
     "metadata": {},
     "output_type": "display_data"
    },
    {
     "data": {
      "text/latex": [
       "$\\displaystyle \\text{Confidence interval of 95\\,\\%\\,:}\\quad f_{ \\, 95\\%}=(0 \\pm 50) \\, \\Omega$"
      ],
      "text/plain": [
       "<IPython.core.display.Math object>"
      ]
     },
     "metadata": {},
     "output_type": "display_data"
    },
    {
     "data": {
      "text/latex": [
       "$\\displaystyle \\text{Evaluating in}\\quad {\\rho: 3}$"
      ],
      "text/plain": [
       "<IPython.core.display.Math object>"
      ]
     },
     "metadata": {},
     "output_type": "display_data"
    },
    {
     "data": {
      "text/latex": [
       "$\\displaystyle f = \\frac{\\rho}{x_{m}}$"
      ],
      "text/plain": [
       "<IPython.core.display.Math object>"
      ]
     },
     "metadata": {},
     "output_type": "display_data"
    },
    {
     "data": {
      "text/latex": [
       "$\\displaystyle f({x_{m}: 1.1, \\rho: 3}) = 2.72727272727273 \\, \\Omega$"
      ],
      "text/plain": [
       "<IPython.core.display.Math object>"
      ]
     },
     "metadata": {},
     "output_type": "display_data"
    },
    {
     "data": {
      "text/latex": [
       "$\\displaystyle \\frac{\\partial f}{\\partial x_{m}} = - \\frac{\\rho}{x_{m}^{2}} = -2.47933884297521 \\, \\frac{\\Omega}{m}$"
      ],
      "text/plain": [
       "<IPython.core.display.Math object>"
      ]
     },
     "metadata": {},
     "output_type": "display_data"
    },
    {
     "data": {
      "text/latex": [
       "$\\displaystyle \\frac{\\partial f}{\\partial \\rho} = \\frac{1}{x_{m}} = 0.909090909090909 \\, \\frac{1}{m}$"
      ],
      "text/plain": [
       "<IPython.core.display.Math object>"
      ]
     },
     "metadata": {},
     "output_type": "display_data"
    },
    {
     "data": {
      "text/latex": [
       "$\\displaystyle s_{\\overline{f}} = \\sqrt{\\frac{\\partial f}{\\partial \\rho}^{2} s_{\\overline{\\rho}}^{2} + \\frac{\\partial f}{\\partial x_{m}}^{2} s_{\\overline{xm}}^{2}}$"
      ],
      "text/plain": [
       "<IPython.core.display.Math object>"
      ]
     },
     "metadata": {},
     "output_type": "display_data"
    },
    {
     "data": {
      "text/latex": [
       "$\\displaystyle s_{\\overline{f}} = 24.7967215390414 \\, \\Omega$"
      ],
      "text/plain": [
       "<IPython.core.display.Math object>"
      ]
     },
     "metadata": {},
     "output_type": "display_data"
    },
    {
     "data": {
      "text/latex": [
       "$\\displaystyle f = (0 \\pm 20) \\, \\Omega$"
      ],
      "text/plain": [
       "<IPython.core.display.Math object>"
      ]
     },
     "metadata": {},
     "output_type": "display_data"
    },
    {
     "data": {
      "text/latex": [
       "$\\displaystyle \\nu_{f} = \\frac{s_{\\overline{f}}^{4}}{\\frac{\\frac{\\partial f}{\\partial \\rho}^{4} s_{\\overline{\\rho}}^{4}}{\\nu_{\\rho}} + \\frac{\\frac{\\partial f}{\\partial x_{m}}^{4} s_{\\overline{xm}}^{4}}{\\nu_{xm}}} = 3.00161338747177 \\approx 3$"
      ],
      "text/plain": [
       "<IPython.core.display.Math object>"
      ]
     },
     "metadata": {},
     "output_type": "display_data"
    },
    {
     "data": {
      "text/latex": [
       "$\\displaystyle \\text{Confidence interval of 95\\,\\%\\,:}\\quad f_{ \\, 95\\%}=(0 \\pm 80) \\, \\Omega$"
      ],
      "text/plain": [
       "<IPython.core.display.Math object>"
      ]
     },
     "metadata": {},
     "output_type": "display_data"
    }
   ],
   "source": [
    "f_2 = f({rho: [1,2,3], x.sym.sdm:10}, vbs=2)"
   ]
  },
  {
   "cell_type": "markdown",
   "metadata": {},
   "source": [
    "Notar que esto no modifica los valores almacenados en `x` o `rho`, para ello existe el método `calc` dentro de cada objeto."
   ]
  },
  {
   "cell_type": "markdown",
   "metadata": {},
   "source": [
    "# Variables correlacionadas"
   ]
  },
  {
   "cell_type": "markdown",
   "metadata": {},
   "source": [
    "Si se tienen dos cantidades correlacionadas, uno puede definir la covarianza entre ellas con la funcion `stats.set_cov`, permitiendo que realice el cálculo, o enviando como algumento el valor de la covarianza.\\\n",
    "Luego se puede acceder al atributo `cov` de una variable, que es un `dict` con la covarianza de esta con el resto."
   ]
  },
  {
   "cell_type": "code",
   "execution_count": 19,
   "metadata": {},
   "outputs": [],
   "source": [
    "from formulab import stats"
   ]
  },
  {
   "cell_type": "code",
   "execution_count": 20,
   "metadata": {},
   "outputs": [
    {
     "data": {
      "text/latex": [
       "$\\displaystyle a = (2.5 \\pm 0.6) \\, c m$"
      ],
      "text/plain": [
       "<IPython.core.display.Math object>"
      ]
     },
     "metadata": {},
     "output_type": "display_data"
    },
    {
     "data": {
      "text/latex": [
       "$\\displaystyle \\text{Confidence interval of 95\\,\\%\\,:}\\quad a_{ \\, 95\\%}=(2.5 \\pm 2.1) \\, c m$"
      ],
      "text/plain": [
       "<IPython.core.display.Math object>"
      ]
     },
     "metadata": {},
     "output_type": "display_data"
    },
    {
     "data": {
      "text/latex": [
       "$\\displaystyle b = (5.1 \\pm 0.3) \\, c m$"
      ],
      "text/plain": [
       "<IPython.core.display.Math object>"
      ]
     },
     "metadata": {},
     "output_type": "display_data"
    },
    {
     "data": {
      "text/latex": [
       "$\\displaystyle \\text{Confidence interval of 95\\,\\%\\,:}\\quad b_{ \\, 95\\%}=(5.1 \\pm 0.9) \\, c m$"
      ],
      "text/plain": [
       "<IPython.core.display.Math object>"
      ]
     },
     "metadata": {},
     "output_type": "display_data"
    }
   ],
   "source": [
    "a = var('a', [1,2,3,4], 'cm')\n",
    "b = var('b', [4.3,5.7,5.3,5], 'cm')"
   ]
  },
  {
   "cell_type": "code",
   "execution_count": 21,
   "metadata": {},
   "outputs": [
    {
     "data": {
      "text/plain": [
       "20"
      ]
     },
     "execution_count": 21,
     "metadata": {},
     "output_type": "execute_result"
    }
   ],
   "source": [
    "stats.set_cov(a, b, 20)\n",
    "b.cov[a]"
   ]
  },
  {
   "cell_type": "code",
   "execution_count": 22,
   "metadata": {},
   "outputs": [
    {
     "data": {
      "text/plain": [
       "0.2833333333333333"
      ]
     },
     "execution_count": 22,
     "metadata": {},
     "output_type": "execute_result"
    }
   ],
   "source": [
    "stats.set_cov(a, b)\n",
    "a.cov[b]"
   ]
  },
  {
   "cell_type": "markdown",
   "metadata": {},
   "source": [
    "Luego esto se reflejará en el cálculo de la incertidumbre de una funcion. Aunque en este caso no es apropiado determinar los grados de libertad efectivos mediante la expresión de Welch-Satterthwaite, el código lo determina de todos modos."
   ]
  },
  {
   "cell_type": "code",
   "execution_count": 23,
   "metadata": {},
   "outputs": [
    {
     "data": {
      "text/latex": [
       "$\\displaystyle g = a^{2} + \\pi a b$"
      ],
      "text/plain": [
       "<IPython.core.display.Math object>"
      ]
     },
     "metadata": {},
     "output_type": "display_data"
    },
    {
     "data": {
      "text/latex": [
       "$\\displaystyle g({a: 2.5, b: 5.075}) = 46.1089567924205 \\, c m^{2}$"
      ],
      "text/plain": [
       "<IPython.core.display.Math object>"
      ]
     },
     "metadata": {},
     "output_type": "display_data"
    },
    {
     "data": {
      "text/latex": [
       "$\\displaystyle \\frac{\\partial g}{\\partial a} = 2 a + \\pi b = 20.9435827169682 \\, m$"
      ],
      "text/plain": [
       "<IPython.core.display.Math object>"
      ]
     },
     "metadata": {},
     "output_type": "display_data"
    },
    {
     "data": {
      "text/latex": [
       "$\\displaystyle \\frac{\\partial g}{\\partial b} = \\pi a = 7.85398163397448 \\, m$"
      ],
      "text/plain": [
       "<IPython.core.display.Math object>"
      ]
     },
     "metadata": {},
     "output_type": "display_data"
    },
    {
     "data": {
      "text/latex": [
       "$\\displaystyle s_{\\overline{g}} = \\sqrt{\\frac{\\partial g}{\\partial a}^{2} s_{\\overline{a}}^{2} + 2 \\frac{\\partial g}{\\partial a} \\frac{\\partial g}{\\partial b} s_{\\overline{ba}} + \\frac{\\partial g}{\\partial b}^{2} s_{\\overline{b}}^{2}}$"
      ],
      "text/plain": [
       "<IPython.core.display.Math object>"
      ]
     },
     "metadata": {},
     "output_type": "display_data"
    },
    {
     "data": {
      "text/latex": [
       "$\\displaystyle s_{\\overline{g}} = 16.7737862121351 \\, c m^{2}$"
      ],
      "text/plain": [
       "<IPython.core.display.Math object>"
      ]
     },
     "metadata": {},
     "output_type": "display_data"
    },
    {
     "data": {
      "text/latex": [
       "$\\displaystyle g = (50 \\pm 20) \\, c m^{2}$"
      ],
      "text/plain": [
       "<IPython.core.display.Math object>"
      ]
     },
     "metadata": {},
     "output_type": "display_data"
    },
    {
     "data": {
      "text/latex": [
       "$\\displaystyle \\nu_{g} = \\frac{s_{\\overline{g}}^{4}}{\\frac{\\frac{\\partial g}{\\partial a}^{4} s_{\\overline{a}}^{4}}{\\nu_{a}} + \\frac{\\frac{\\partial g}{\\partial b}^{4} s_{\\overline{b}}^{4}}{\\nu_{b}}} = 7.10374623950724 \\approx 7$"
      ],
      "text/plain": [
       "<IPython.core.display.Math object>"
      ]
     },
     "metadata": {},
     "output_type": "display_data"
    },
    {
     "data": {
      "text/latex": [
       "$\\displaystyle \\text{Confidence interval of 95\\,\\%\\,:}\\quad g_{ \\, 95\\%}=(50 \\pm 40) \\, c m^{2}$"
      ],
      "text/plain": [
       "<IPython.core.display.Math object>"
      ]
     },
     "metadata": {},
     "output_type": "display_data"
    }
   ],
   "source": [
    "g = func('g', sp.pi*a*b+a**2, unit='cm^2', vbs=2)"
   ]
  },
  {
   "cell_type": "markdown",
   "metadata": {},
   "source": [
    "# Listas de Variables"
   ]
  },
  {
   "cell_type": "markdown",
   "metadata": {},
   "source": [
    "Si se realizan N conjuntos de mediciones de una cantidad, es conveniente almacenarlas juntas, en el tipo `objects.varList`. Y acceder a ellas llamando a la variable con el respectivo subíndice."
   ]
  },
  {
   "cell_type": "code",
   "execution_count": 24,
   "metadata": {},
   "outputs": [
    {
     "data": {
      "text/latex": [
       "$\\displaystyle T_{1} = (23.2 \\pm 0.2) \\, C$"
      ],
      "text/plain": [
       "<IPython.core.display.Math object>"
      ]
     },
     "metadata": {},
     "output_type": "display_data"
    },
    {
     "data": {
      "text/latex": [
       "$\\displaystyle T_{2} = (26.4 \\pm 0.6) \\, C$"
      ],
      "text/plain": [
       "<IPython.core.display.Math object>"
      ]
     },
     "metadata": {},
     "output_type": "display_data"
    },
    {
     "data": {
      "text/latex": [
       "$\\displaystyle T_{3} = (29.4 \\pm 0.4) \\, C$"
      ],
      "text/plain": [
       "<IPython.core.display.Math object>"
      ]
     },
     "metadata": {},
     "output_type": "display_data"
    }
   ],
   "source": [
    "T = varList('T', [[23,23,23,24], [25,25,27,27,28], [30,30,28,29,30]], 'C')"
   ]
  },
  {
   "cell_type": "code",
   "execution_count": 25,
   "metadata": {},
   "outputs": [
    {
     "data": {
      "text/latex": [
       "$\\displaystyle T_{1}$"
      ],
      "text/plain": [
       "T_{1}"
      ]
     },
     "execution_count": 25,
     "metadata": {},
     "output_type": "execute_result"
    }
   ],
   "source": [
    "T(1)"
   ]
  },
  {
   "cell_type": "code",
   "execution_count": 26,
   "metadata": {},
   "outputs": [
    {
     "data": {
      "text/plain": [
       "26.4"
      ]
     },
     "execution_count": 26,
     "metadata": {},
     "output_type": "execute_result"
    }
   ],
   "source": [
    "T(2).val"
   ]
  },
  {
   "cell_type": "markdown",
   "metadata": {},
   "source": [
    "# Funciones de ajuste"
   ]
  },
  {
   "cell_type": "markdown",
   "metadata": {},
   "source": [
    "Las funciones de ajuste son de tipo `objects.funcFit` y se requiere que los parámetros de ajuste sean de tipo `objects.var` y tanto la variable independiente, como la dependiente sean de tipo `objects.varList`. \\\n",
    "El cálculo retorna los valores apropiados de los parámetros de ajuste, la tabla de restos y los graficos interactivos de la función y los restos."
   ]
  },
  {
   "cell_type": "code",
   "execution_count": 27,
   "metadata": {},
   "outputs": [],
   "source": [
    "# Configuración inicial para gráficos interactivos\n",
    "from IPython.display import display, Math, Markdown\n",
    "import matplotlib.pyplot as plt\n",
    "\n",
    "%matplotlib widget\n",
    "import matplotlib\n",
    "matplotlib.rcParams['figure.figsize'] = (10, 5)"
   ]
  },
  {
   "cell_type": "code",
   "execution_count": 28,
   "metadata": {},
   "outputs": [],
   "source": [
    "a, b, c = var('a', -1), var('b', 2), var('c', 5)\n",
    "\n",
    "x = varList('x', [{'val': -0.59, 'sd':0.1, 'n':6}, {'val': 0.27, 'sd':0.1, 'n':6}, {'val': 0.98, 'sd':0.1, 'n':6}, {'val': 1.87, 'sd':0.1, 'n':6}], 'm', vbs=0)\n",
    "\n",
    "h = varList('h', [{'val': 0.55, 'sd':0.1, 'n':6}, {'val': 3.78, 'sd':0.1, 'n':6}, {'val': 4, 'sd':0.1, 'n':6}, {'val': 1.62, 'sd':0.1, 'n':6}], 'm', vbs=0)"
   ]
  },
  {
   "cell_type": "code",
   "execution_count": 29,
   "metadata": {},
   "outputs": [
    {
     "data": {
      "text/latex": [
       "$\\displaystyle h = a x^{2} + b x + c$"
      ],
      "text/plain": [
       "<IPython.core.display.Math object>"
      ]
     },
     "metadata": {},
     "output_type": "display_data"
    },
    {
     "data": {
      "text/latex": [
       "$\\displaystyle b = (3.01 \\pm 0.07) \\, \\mathtt{\\text{}}$"
      ],
      "text/plain": [
       "<IPython.core.display.Math object>"
      ]
     },
     "metadata": {},
     "output_type": "display_data"
    },
    {
     "data": {
      "text/latex": [
       "$\\displaystyle \\text{Confidence interval of 95\\,\\%\\,:}\\quad b_{ \\, 95\\%}=(3.01 \\pm 0.87) \\, \\mathtt{\\text{}}$"
      ],
      "text/plain": [
       "<IPython.core.display.Math object>"
      ]
     },
     "metadata": {},
     "output_type": "display_data"
    },
    {
     "data": {
      "text/latex": [
       "$\\displaystyle a = (-2.03 \\pm 0.05) \\, \\mathtt{\\text{}}$"
      ],
      "text/plain": [
       "<IPython.core.display.Math object>"
      ]
     },
     "metadata": {},
     "output_type": "display_data"
    },
    {
     "data": {
      "text/latex": [
       "$\\displaystyle \\text{Confidence interval of 95\\,\\%\\,:}\\quad a_{ \\, 95\\%}=(-2.03 \\pm 0.58) \\, \\mathtt{\\text{}}$"
      ],
      "text/plain": [
       "<IPython.core.display.Math object>"
      ]
     },
     "metadata": {},
     "output_type": "display_data"
    },
    {
     "data": {
      "text/latex": [
       "$\\displaystyle c = (3.05 \\pm 0.04) \\, \\mathtt{\\text{}}$"
      ],
      "text/plain": [
       "<IPython.core.display.Math object>"
      ]
     },
     "metadata": {},
     "output_type": "display_data"
    },
    {
     "data": {
      "text/latex": [
       "$\\displaystyle \\text{Confidence interval of 95\\,\\%\\,:}\\quad c_{ \\, 95\\%}=(3.05 \\pm 0.55) \\, \\mathtt{\\text{}}$"
      ],
      "text/plain": [
       "<IPython.core.display.Math object>"
      ]
     },
     "metadata": {},
     "output_type": "display_data"
    },
    {
     "data": {
      "text/markdown": [
       "|    | $r\\, [m]$   |\n",
       "|---:|:------------|\n",
       "|  0 | $-0.02$     |\n",
       "|  1 | $0.06$      |\n",
       "|  2 | $-0.06$     |\n",
       "|  3 | $0.02$      |"
      ],
      "text/plain": [
       "<IPython.core.display.Markdown object>"
      ]
     },
     "metadata": {},
     "output_type": "display_data"
    },
    {
     "data": {
      "application/vnd.jupyter.widget-view+json": {
       "model_id": "460b6637334a4301b1f19d9527d6b4bc",
       "version_major": 2,
       "version_minor": 0
      },
      "image/png": "[encoded data removed]",
      "text/html": [
       "\n",
       "            <div style=\"display: inline-block;\">\n",
       "                <div class=\"jupyter-widgets widget-label\" style=\"text-align: center;\">\n",
       "                    Figure\n",
       "                </div>\n",
       "                <img src='data:image/png;base64,iVBORw0KGgoAAAANSUhEUgAAA+gAAAH0CAYAAACuKActAAAAOXRFWHRTb2Z0d2FyZQBNYXRwbG90bGliIHZlcnNpb24zLjguMywgaHR0cHM6Ly9tYXRwbG90bGliLm9yZy/H5lhTAAAACXBIWXMAAA9hAAAPYQGoP6dpAABxPUlEQVR4nO3dd3hUZcLG4WcSUiEVSAIhQGihJgQIIYB0CL0pAiqIdVVw9dNVwdW1i666uqtY1oZlAQGlQ+ihd0ggNKUGMAktJKSQer4/lOxGWgJJzkzmd1/XXJgz50yeYYfZeeY9530thmEYAgAAAAAApnIwOwAAAAAAAKCgAwAAAABgFSjoAAAAAABYAQo6AAAAAABWgIIOAAAAAIAVoKADAAAAAGAFKOgAAAAAAFgBCjoAAAAAAFaAgg4AAAAAgBWgoAMAAAAAYAUo6AAAAAAAWAEKOgAAAAAAVoCCDgAAAACAFaCgAwAAAABgBSjoAAAAAABYAQo6AAAAAABWgIIOAAAAAIAVoKADAAAAAGAFKOgAAAAAAFgBCjoAAAAAAFaAgg4AAAAAgBWgoAMAAAAAYAUo6AAAAAAAWAEKOgAAAAAAVoCCDgAAAACAFaCgAwAAAABgBSjoAAAAAABYAQo6AAAAAABWgIIOAAAAAIAVoKADAAAAAGAFKOgAAAAAAFgBCjoAAAAAAFaAgg4AAAAAgBWgoAMAAAAAYAUo6AAAAAAAWAEKOgAAAAAAVoCCDgAAAACAFaCgAwAAAABgBSjoAAAAAABYAQo6AAAAAABWgIIOAAAAAIAVoKADAAAAAGAFKOgAAAAAAFgBCjoAAAAAAFaAgg4AAAAAgBWgoAMAAAAAYAUo6AAAAAAAWAEKOgAAAAAAVoCCDgAAAACAFaCgAwAAAABgBSjoAAAAAABYAQo6AAAAAABWgIIOAAAAAIAVoKADAAAAAGAFKOgAAAAAAFgBCjoAAAAAAFaAgg4AAAAAgBWgoAMAAAAAYAWqmB0AFauwsFC//vqrPDw8ZLFYzI4DAAAAwCSGYejixYuqXbu2HBwYu7UGFHQ78+uvvyooKMjsGAAAAACsxIkTJ1SnTh2zY0AUdLvj4eEh6bd/hJ6enianAQAAAGCW9PR0BQUFFXUEmI+Cbmcun9bu6elJQQcAAADApa9WhAsNAAAAAACwAhR0AAAAAACsAAUdAAAAAAArwDXoAAAAwHUUFBQoLy/P7BhAqTk5OcnR0dHsGCgFCjoAAABwFYZhKDk5WRcuXDA7CnDTvL29FRAQwERwNoKCDgAAAFzF5XLu5+cnd3d3Cg5simEYysrK0unTpyVJtWrVMjkRSoKCDgAAAPxBQUFBUTmvXr262XGAm+Lm5iZJOn36tPz8/Djd3QYwSRwAAADwB5evOXd3dzc5CXBrLr+GmUfBNlDQAQAAgGvgtHbYOl7DtoWCDgAAAACAFaCgAwAAAABgBSjoAAAAAGzaiRMn1K1bNzVv3lyhoaGaNWuW2ZGAm8Is7gAAAABsWpUqVfTBBx+odevWSk5OVtu2bdW/f39VrVrV7GhAqVDQAQDALTMMQ3mFhcrMy1NmXp4u5eer0DBUaBgq+P3Py//taLHIxdFRzo6Oxf68/N9MaATcur/85S86dOiQ5s6de9X7z507p2bNmmnr1q2qX79+iR5z1KhRioiI0NNPP112QctIrVq1itb5DggIUI0aNXT+/PkyLegTJ05UQkKCFi5cWGaPCfwRBR0AABRTaBhKyczUyYsXdTIjQ2eysnQ2O1vnsrN19vfbuUuXdP7SJWXk5haV8gLDuOXf7eTgIC8Xl//enJ3l5eIiH1dX+bu7K6Bq1WI3f3d3ebm4UOqBP4iLi1PHjh2vef8bb7yhIUOGlLicS9ILL7ygLl266MEHH5SXl1cZpCwfO3bsUEFBgYKCgsr0cePi4tS2bdsyfUzgjyjoAADYGcMwlJyZqV9SU/XLhQv6JTVVx9PTdeLiRZ28eFGnMjKUX1hYtL+DxSJfV1dVd3NTjd9vLapXl6+rq6o5O6uqk9MVNxdHRzlaLHJ0cJCDxfLb7ffHKjAM5RYUKLewUDn5+UV/5hQU6GJuri7k5CgtJ0dpubm//ZmTo33nzin2xAklZWbqUn5+sefjXqWK6nt5KdjLS/U9PRV8+b+9vNTI21ueLi4V/DcMmC8+Pl6PPvroVe/LysrSl19+qaVLl5bqMVu2bKmGDRvq+++/1/jx48siZpk7f/68xo4dq88//7xE+3fr1k3jxo3TuHHjbrhvXFyc7rvvvltMeOs5ULlR0AEAqKQKDUNHLlzQ7jNntPvMGe07d06/XLigQ6mpysjLkyRZJNXz9FR9Ly818PJSlzp1FOThoToeHqpTrZrqeHioupubHKxkhNowDF3MzVVyZmbR7WRGho6mpelYWppiT5zQ1wkJyvqfEh9YrZqaV6+uZtWrq5mvr5pVr67m1aurpru7ic8EKD8nT57U2bNnJUm9e/fWhg0bFBQUpG+//VaRkZFavHixXFxc1KFDh2LHTZ8+Xffff7+OHDlSdLr4fffdpx07dmjdunXy8vLSoEGDNGPGjDIv6C+99JJ++uknHTlyRNWqVdPw4cP1r3/9S05OTiXOlpOTo6FDh2rixInXPXvgZiQnJyslJUUFBQXq0qWLtm/frhYtWuirr75Sq1atSpyxLCQmJurFF19UTEyM0tPT1aRJE02ZMkWdO3cuk8eHuSjoAABUApfy87Xr9GntSE7W7rNntfvMGe05c6aoqNZ0c1OLGjXUPiBAdzdrpsY+Pmri46MGXl5yqWI7HwcsFos8XVzk6eKiJr6+V93HMAydzc7W0bQ0/Zyaqv3nzmnfuXNaeuyYpuzaVXQqfq2qVdXW319tLt/8/FTHw4PT5WHz4uLiJElTpkzRiy++qDp16uixxx7TxIkTtXr1aq1bt+6qp2qPGjVKb731lt588019+OGHeumll7RixQpt3ry5qFy2b99eb7zxhnJycuTyh7NT3nzzTb355pvXzbZv3z7VrVu32DbDMGQYhj777DMFBgZq3759uvfeexUaGlp0FsCNshmGoXHjxqlHjx4aM2bMzf7VXdPlv9MPPvhA77//vnx8fDR+/HiNHj1aCQkJJcpYFo4fP67IyEh16dJF8+fPl6+vr2JjY+Xp6Vkmjw/z2c7/IwMAAEm/jYz/fP68tiQlaWtysrYkJSn+zBnlFxbK2dFRLapXV2jNmrozJEStatRQaM2a8rejmYwtFotqururpru72v8+inVZbkGBDqWmau+5c4o7fVo7U1L0SVyczmRnS5JquLmprb+/omrXVsfatdWhdm15ODub8TSAmxYXFydfX1/NnDlTNWrUkCQNHjxYn332maTfSl7t2rWvOM5iseiNN97QHXfcoYCAAH344Ydat26dAgMDi/apXbu2cnNzlZycrHr16hU7/pFHHtGdd9553WzX+r2vvvpq0c/16tVTr169dPDgwRJn27Bhg3744QeFhoYWTYz33XffFY1u36q4uDi5urpq7ty5Rc/hjTfeUKdOnXT27FnVqFGjRH9/t+rRRx9Vhw4dNHPmzKJtjRs3LrPHh/ko6AAAWLn8wkLtSknRmpMntebECa0/dUoXcnIkSc18fdW+Vi090KqV2gcEKLRmTTk5Opqc2Ho5OzqqeY0aal6jhkaEhEj6bfTu14wM7fy9sG9LTtY/d+7Uyxs3ysFiUWjNmupYu7Y6BQbqtsBABTFSZbey8vJ04Pz5Cv+9TX195f77qd4lERcXpyFDhhSVc0k6evSoGjVqJEnKzs6Wq6vrVY8dOHCgmjdvrldffVXLli1TixYtit3v5uYm6bfr2P/I19dXvtc4s+V6jh8/rr///e9as2aNTp06pby8PF26dElvvfVWibN17txZhf8zd8a1/HGUPzs7W5s3b9aECROKtl1tlD8uLk533nlnsS8YfHx8JKnY773R39+t5Dh+/LiWLFmiXbt23fB5wnZR0AEAsDIFhYXakZKi1YmJWnPypNafOqWLublyq1JFHWvX1lPt2qlj7dpqFxAgLyZAu2UWi0WBHh4K9PDQoIYNJf12lsLB8+e14dQpbTh1SiuOH9fHv5/i2tjHRz3r1lWvevXUPShIvr8XFlR+B86fV9vvvqvw37tjzBi18fcv8f5xcXF69tlnr9jWpUsXSVKNGjWUmpp61WNjYmJ04MABFRQUyP8qv/P8719Q1KxZ84r7buYU9zNnzigiIkI9evTQP/7xDwUGBqqgoEDt2rVTWFhYqbKVxB9H+e+++27dfvvtGj58eNG2q43yx8XF6U9/+lOxbZs3b1ZgYKD8/PxKnfFmcsTFxcnZ2VmtW7e+8ROFzaKgAwBgBZIzM7Xs2DHFHD2qZceP61x2tqo6OalTYKAmRUaqa506ahcQIGdGxyuEg8Xy26Ry1avrwdBQSdKZrCytPXlSK48f14rERH0aHy+LpDb+/upZt66ig4N1W2AgZzBUYk19fbWjHK5vLsnvLamLFy/qyJEjCg8PL7Y9Li5Of/7znyVJ4eHh+v777684dufOnbrzzjv15ZdfaurUqXrxxRc1a9asYvskJCSoTp06xUbnL7uZU9wXLFiggoICTZ8+vWj+h48++kh5eXnFimhJspXEH0f53dzc5OfnV3R2wdVkZWXpl19+UUFBQdG2wsJC/fOf/yw263ppMt5MDicnJ+Xn5ysrK0vuTHJZaVHQAQAwQUFhoTYnJWnRkSOKOXpUu06fliS19ffXI2Fh6lu/viJr1aLsWZGa7u66vUkT3d6kiSTpRHq6ViYmasXx4/p23z79fds2eTo7q29wsAY2aKB+wcGqwYfoSsXdyalUI9lmiI+Pl6OjY7Frr48fP67U1NSiwhsdHa1JkyYpNTW16DTtY8eOacCAAXr++ec1evRoNWjQQFFRUdq5c6fatGlT9Fjr1q1Tnz59rvq7b+YU9+rVqys9PV3z589X8+bNtWDBAk2ePFmBgYFFo/QlzVZedu/eLUdHR3399dfq2rWrPD099de//lXZ2dl67rnnKixjZGSkvLy89Oijj2rixIkyDENr165Vz549uQ69EqGgAwBQQXLy87UqMVFzDh3S/EOHlJKVpZpubooODtbT7dqpd7168rOjydxsXZCnp8a1bKlxLVvKMAzFnT6tBYcPa+GRIxq7ZIkskqJq19bAhg01rFEjNa1e3ezIsANxcXEKCQkpdo35rl275O3trfr160uSWrVqpTZt2mjmzJn605/+pPPnz6tv374aMmSIJk6cKOm3MtivXz89//zziomJkSRdunRJc+fOLfq5LAwaNEgPPPCAxowZIzc3N91zzz268847dfz4cUkqcbbyFBcXpyZNmuhvf/ubhg0bpgsXLmjQoEHauHGjPDw8Kixj9erVtWDBAj3zzDOKiIiQs7OzOnTooNGjR5fJ48M6WAzj97VGYBfS09Pl5eWltLQ0lmMAgAqQmZurRUeOaM6hQ1p05Igu5uaqobe3hjVqpGGNGyuyVi05OjiYHRNlLDkzU4uPHNHCI0e07NgxZeblqWWNGhrRpIlGhISoGWXd6l26dElHjx5VcHDwNSdUs2WLFi3SM888o4SEBDmU8D3ok08+0Zw5c7Rs2bJyToeydL3XMt3A+jCCDgBAGcstKFDM0aOafuCA5h86pKz8fIX7+emZiAgNbdRILX9fjgeVV0DVqrq/VSvd36qVsvPytPTYMc36+We9s22bXtq4US2qV9eIkBCNaNJEza9yLS9Q3gYMGKBffvlFp06dUlBQUImOcXJy0ocffljOyQD7xgi6neFbMgAoHwWFhVp78qSm7d+vH3/5RamXLqlVjRoa3ayZRoWEKNjb2+yIMFFmWr4y0/OVW1CgTUlJWnH8uNaeOKFfCy+qYS0vjW3RQqObNrWr9eqtXWUfQYf9YATdtjCCbiXeeustTZo0SU888YQ++OCDa+43a9Ysvfjiizp27JgaN26st99+W/3796+4oACAYn4+f15fJyTo23379GtGhoK9vPRoWJhGN22qlldZhgj2KWFTmrYt/e+yVq1UT61UTx7tDM2vtk/Prlmjv8TGqk/9+hrbooWGNGwot1Ksew0AqBwo6FZg27Zt+uyzzxT6+zIu17Jx40aNHj1akydP1sCBAzVt2jQNHTpUO3fuVMuWLSsoLQAgIzdXsw4e1FcJCVp/6pS8XVx0V7NmGtO8uSJr1eL0dTuSmZavhE1pahnlpape1/5Y1TLKS7XqO2nhR9u0e02KQrv6a+CECFWv5a57vRrrfHa2Zh48qO/27dPohQvl4eysu+o1V5/cxurTp7aqeVHWAcAecIq7yTIyMtSmTRt9/PHHev3119W6detrjqCPHDlSmZmZWrhwYdG2Dh06qHXr1vr0009L9Ps4jQUAbo5hGNqclKQv9+zRDwcOKDMvT73q1dP9rVppaKNGcq3Cd9726PSJS5r5j5O686k68gu69mnQ2Rm5errDVzqx/2zRtqBmNfTe5vvlVs252L6HUlP13b59Wrz9uO491l5zQ+J1e4eGuqtZM3m5uJTbc0FxnOKOyoJT3G0LnyZMNn78eA0YMEC9evXS66+/ft19N23apKeeeqrYtujoaM2dO/eax+Tk5CgnJ6fo5/T09FvKCwD2JisvT9P279eUuDjFnT6t+p6eeiYiQve2aKF6Xl5mx4OVSE3Jve79i6Zs0Yn9Z2UU/ndc5MT+s5rx+iYNGB9ZbF9PuWl83bYa5dxSK4+dUe2qVfX4ypX6S2ysRjVtqofDwtQ+IIAzNQCgEqKgm2jGjBnauXOntm3bVqL9k5OT5e/vX2ybv7+/kpOTr3nM5MmT9corr9xSTgCwR7+kpurjuDhNTUhQWk6OBjRooMm33aY+9evLgWKEP1j+n9PXvT9hxamrbt+y6JQyc05e99h3u3XTZO9O+johQZ/v3q2vEhIU7uenJ9q00aimTeXC2RsAUGnwjm6SEydO6IknntDy5cvL9bSpSZMmFRt1T09PL/FSGgBgbwoNQ0uOHNG/du3SsmPHVN3NTX8KC9MjYWGqz2g5rqP33X7y8Xe+5v1VXU7pp31HrtgeOSBQA8bXueoxqSm5RcU/0MNDL0RFaVJkpJYdO6YPd+3SuJgYPbt2rR4JC9OjrVsrgBngAcDmUdBNsmPHDp0+fVpt2rQp2lZQUKC1a9fqo48+Uk5OjhwdHYsdExAQoJSUlGLbUlJSFBAQcM3f4+LiIheuVwOA67qUn6/v9+3Te9u368D584oICNA3/frpzpAQri1Hifj4O1/3GvRRL0Rp28L9V1yDPuqFqCuuQb8eRwcH9WvQQP0aNNCBc+f04a5dem/7dk3eskUjmzbVE23aqN11PhcAAKwbnzpM0rNnT+3Zs6fYtvvuu09NmzbVc889d0U5l6SoqCitXLlSTz75ZNG25cuXKyoqqrzjAkCldDYrSx/HxWlKXJzOZGVpaOPG+iI6Wh1r1+b6XpRIVc8qioj2UVXP63+kKixw0MTZd10xi3thgcNNP3bT6tU1pVcvvdG5s77cs0cf7dql7/ftU9c6dfRc+/bqGxzM6xgAbAyzuFuRbt26FZvFfezYsQoMDNTkyZMl/bbMWteuXfXWW29pwIABmjFjht58881SLbPGTI0AIB2+cEHvbtumb/bulSTd17KlnmzbVo19fExOhspqS8y5YuugXxYR7aPIvtXL5HcUFBZq7qFDenvrVm1LTlZYzZp6rn17jQgJURWHa38RgKtjFndUFsziblsYQbdiiYmJcvif/0Pt2LGjpk2bphdeeEHPP/+8GjdurLlz57IGOgCU0P5z5zR5yxZN279f1d3c9HxkpB5t3VrV3dzMjoZKrmWUl4JbXHmN+I1G3kvD0cFBtzdpouGNGyv2xAm9vXWr7lq0SH9dv15/addO97VsKTcn1lOvSJlp+cpMz79ie1XPKqrqxcdwAFdiBN3O8C0ZAHsUf/q03ti8WbN//lmBHh56LiJCD7RqRVlBpbcrJUV/37ZNMw8eVA03Nz0TEaFHw8JU1bnk173bq7IYQa+IMyeAG2EE3bZQ0O0M/wgB2JNtSUl6ffNmzT98WMFeXpoUGamxzZuzLBXszuELF/T21q36OiFBvq6uejYiQo+2bi13vqS6prIo6JdH0C/PyH95tv+KGEE/d+6cmjVrpq1bt6p+/fq3/Hh/+ctfdOjQIc2dO/eq948aNUoRERF6+umnb/l3oWxR0G0Ln1AAAJVO/OnTenHDBi04fFghvr76pl8/jW7aVE5XmYATsAcNvb317z59NKl9e725ZYsmrlunv2/bpufat9cjYWEU9XJS1at4Eb/RbP9l6Y033tCQIUPKpJxLUlxcnDp27HjN+1944QV16dJFDz74oLxYlhK4acwYAgCoNA6eP69RCxao9bffav+5c/q+f3/tHTdOY1u0oJwDkoK9vfV5dLR+vv9+DWrYUM+uWaMGn3+uD3bs0KX8K6+Vhm3KysrSl19+qQceeKDMHjM+Pl5hYWHXvL9ly5Zq2LChvv/++zL7nYA9oqADAGzesbQ03R8To+Zff62Nv/6qz/v00b777tPdzZvLkdmrgSsEe3vri+ho/fzAAxrQoIH+EhurkC+/1DcJCSooLDQ7nk3KTMvXlphzykwr/kVHdkauFk3ZooQVW7VoyhZlZ+SW6LhbsXjxYrm4uKhDhw5F26ZPny43NzclJSUVbbvvvvsUGhqqtLS06z7eyZMndfbsWUlS79695e7urpCQEG3ZsqXYfoMGDdKMGTPK7HkA9ohPLQAAm3UmK0uPr1ypJl9+qUVHjuj97t318wMP6MHQUEbMgRJo4O2tL/v2VcK4cYoICNC4mBi1/vZbLTh8WExTVDqZ6fnatjS12Kzt2Rm5errDV/rpnXU6te+IfnpnnZ7u8FWxkn61427VunXr1LZt22LbRo0apSZNmujNN9+UJL300ktasWKFlixZcsNT0uPi4iRJU6ZM0fPPP6/4+HjVrVtXEydOLLZf+/bttXXrVuXk5JTZcwHsDdegAwBsTnZenj7YuVOTt2yRg8WiVzt10uPh4cxMDdykptWra/aQIdqSlKSJa9dq8Jw56hQYqLe7dFGnwECz49mU1JT/lu9FU7boxP6zMgr/+2XHif1nNeP1TRowPvKK/cvK8ePHVbt27WLbLBaL3njjDd1xxx0KCAjQhx9+qHXr1imwBP/7xsXFydfXVzNnzlSNGjUkSYMHD9Znn31WbL/atWsrNzdXycnJqlevXtk9IcCOUNABADaj0DD0/b59emH9eiVlZmp869Z6MSqKdcyBMhJZq5ZW3Xmnlh47pknr1qnz9Oka2qiR3unaVY18fMyOZxOW/+d00X8nrDh11X22LDqlzJyT5ZYhOzv7qjPPDxw4UM2bN9err76qZcuWqUWLFiV6vLi4OA0ZMqSonEvS0aNH1ahRo2L7uf3+XpyVlXUL6QH7RkEHANiElceP65k1a7Tr9Gnd0aSJJt92G4UBKAcWi0V9g4PVp359zThwQBPXrlXzr7/WE23a6IWoKHm5uJgd0apdXkpNkqq6nNJP+45csU/kgEANGF9HkoqWYCtLNWrUUGrqleuvx8TE6MCBAyooKJC/v3+JHy8uLk7PPvvsFdu6dOlSbNv58+clSTVr1ryJ1AAkrkEHAFi5Q6mpGjxnjnrNmiUXR0dtGD1aswYPppwD5czBYtFdzZrpwP33629RUfo4Lk6NvvhCn8bFKZ+J5K7p8lJqfkGuGvVClIKa1ZDFwVJ0C2pWQ6NeiCra53KZL0vh4eHat29fsW07d+7UnXfeqS+//FI9e/bUiy++WKLHunjxoo4cOaLw8PBi2+Pi4tS6deti2xISElSnTp1iI+0ASocRdABAmctMy7/qhEdVPYuvCXw9Gbm5enPLFr23fbsC3N31w8CBGhESIovFUtZxAVyHu5OTXoiK0v2tWun5dev06IoV+mjXLr3fvbt6l9Ea25VBVc8qioj2UVXP/77HuVVz1nub79eM1zdpy6JTihwQqFEvRMmtmvN1j7tV0dHRmjRpklJTU+Xj46Njx45pwIABev755zV69Gg1aNBAUVFR2rlzp9q0aXPdx4qPj5ejo6NatWpVtO348eNKTU29oqCvW7dOffr0KbPnAdgjCjoAoMwlbErTtqVXnl4ZEe2jyL7Vr3usYRiaceCAnlmzRucuXdKk9u31bPv2cndyKq+4AEqgdrVqmtqvnyaEh+v/Vq9Wn9mzNbRRI33Qvbvq3WAWcHtQ1avKVd/f3Ko5a8D4SGXmnNSA8XWKlfPrHXcrWrVqpTZt2mjmzJkaMWKE+vbtqyFDhhTNuh4ZGal+/frp+eefV0xMjCRp6tSpuu+++66YvT8uLk4hISHFrmnftWuXvL29Vf9/vqC5dOmS5s6dW/R4AG6OxWANDbuSnp4uLy8vpaWlydPT0+w4AGxQZlq+EjalqWWU1zVHwzPT8nUuKUsLP9qm3WtSFNrVXwMnRKh6LffrHrNixa/6KGOrVpw5ptsbN9a73bqpPh/8AatjGIZ+OHhQT8fGKvXSJb3QoYOebtdOLlUqz9jPpUuXdPToUQUHB191wrXSOH3ikmb+46TufKqO/IJu7bFKatGiRXrmmWeUkJAgB4cbX9X60ksvac2aNYqNjb2p3/fJJ59ozpw5WrZs2U0dj/Jzvdcy3cD6VJ53UQBAhbi8Zm9wi6rXLNsOjoV6645pOrH/rCTp1L4jSoj9Re9tvv+q+6fn5Oi1lVtVb30t5TYq1PIRI9SLJXoAq2WxWDSqaVMNaNBAr2zcqL9t2KBv9u7VlF69+Lf7Py5f7nN5KbXLf5bmcp+bNWDAAP3yyy86deqUgoKCbrj/kiVL9NFHH93073NyctKHH35408cD+A0FHQBwU663dm9J1v69bMXx43pn2za5Zzmrnmpp+sCBql3PvdxyAyg7Hs7OerdbN41r0UITVq5U71mzNKJJE/2je3fV8fAwO57p/ni5z+XZ2ktyuU9ZePLJJ0u879atW2/pdz344IO3dDyA31DQAQA35XrLApVu7V9HPaAORT9VKcGpmACsS8uaNbV65EhN279fT8fGqulXX+mNzp01ITxcjnb8b7pllJeCW1S9YntZTggHoHLh3QEAcFP+d63fP7re2r/Rj9bW9/v26fPdu+Xt6qpn27dX1zp1ymUtYAAVx2Kx6O7mzTWwYUP9dd06/d/q1Zq2f7++iI5WKztdF7uqV/mfyg6gcuEdAwBwUy6v9Xs1o16I0raF+4uuQZekoGY11OjBYEWvnqn9587pifZt9EqnTqrmXPZrAAMwj5eLiz7q1Ut3NWumh5YtU5vvvtOzERF6MSpKrpVoEjkAKA+8SwIASqUka/YWFjho4uy7imZxb9HFT6c6O2nwT/PVsJaXtt1zj8L9/Uv9uABsR8fAQO0aO1ZvbdmiN7Zs0ayff9a/e/dWt7p1zY4GAFaLZdbsDEspAKgIW2LOXXUd9NwWWfrz/S25zhywM/vPndPDy5Zp/alTerBVK73brZu8XFzMjnVdl5emql+/vtzc3MyOA9y07OxsHTt2jGXWbATDFACAMtcyykv+IS76cOdOzTx4UGE1a+qljh3VvE59yjlgh5pVr641o0bp3/HxenbtWi09dkxfRkerd/36Zke7JicnJ0lSVlYWBR02LSsrS9J/X9OwbhR0AECZ25h6Ug8tX6YzWVma3LeLxrdubdczOQOQHCwWPdK6tfoFB+uBpUvVZ/Zs/SksTO907SoPK5yLwtHRUd7e3jp9+rfJK93d3WWxWExOBZScYRjKysrS6dOn5e3tLUdHR7MjoQQ4xd3OcBoLgPKUmZur59au1ZS4OHUPCtIX0dFq4O1tdiwAVsYwDH0WH6+/rFmjGm5u+qpvX/WwwmvTDcNQcnKyLly4YHYU4KZ5e3srICDgql8w0Q2sDwXdzvCPEEB52ZKUpDGLF+vkxYv6e5cueiw8XA6MNgG4jqMXLuj+pUsVe+KEHmvdWm936WKVKzsUFBQoLy/P7BhAqTk5OV135JxuYH0o6HaGf4QAylpeQYFe3bRJb27Zonb+/vq2f3+F+PqaHQuAjSg0DH28a5eeW7tWtatV0/cDBiiyVi2zYwF2gW5gfbggEABw0/adPasO06bpra1b9XLHjtpw112UcwCl4mCxaEKbNoq79175urqq07RpenXjRuUXFpodDQAqHAUdAFBqhmHonzt2qM133yk7L0+b77pLL0ZFMUM7gJvW2MdH60eP1vORkXpl0yZ1mTFDh7n2G4Cd4ZMUAKBUTmdmauBPP+nJ1av1SFiYdowZo7YBAWbHAlAJODk66tXOnbVu1CglZ2aq9Tff6Os9e8QVmQDsBQUdAFBiy44dU+g332hbcrIWDx+uD3r0kBvrqgIoYx0DAxU3dqxub9JE9y9dqhHz5+t8drbZsQCg3FHQAQA3lFtQoGdiYxU9e7bC/Py0e9w49WvQwOxYACoxTxcXTe3XTzMHDdKqEyfU+ttvtfHUKbNjAUC5oqADAK7rl9RUdZw2Tf/cuVPvdO2qJbffroCqVc2OBcBOjAgJUdzYsQry8FCXGTM0ecsWFXLKO4BKioIOALim7/ftU/i33yo9N1eb7rpLf4mIYG1zABWurqenYkeO1LPt2+uv69ap348/KiUz0+xYAFDmKOgAgCtk5+Xp4WXLNGbxYg1v3Fg7mQgOgMmcHB315m23aekddyju9Gm1/vZbrTx+3OxYAFCmKOgAgGJ+SU1V1LRp+m7fPn0RHa1v+vVTNWdns2MBgCSpd/36ir/3XrWoXl29Z83Si+vXs2Y6gEqDgg4AKDLr4EG1/e47ZeXna8vdd+uBVq1k4ZR2AFYmoGpVLb3jDr3WubPe3LJF0bNn6zSnvAOoBCjoAADl5Ofr8ZUrdeeCBeofHKzt99yj0Jo1zY4FANfk6OCgv3booJUjRijh7Fm1+e47ZnkHYPMo6ABg5xLT03XbjBn69+7dmtKzp6YPHChPFxezYwFAiXSrW1e7xo5VfS8vdf3hB/1r504ZzPIOwEZR0E3yySefKDQ0VJ6envL09FRUVJSWLFlyzf2nTp0qi8VS7Obq6lqBiQFURqsSE9X2u+90JitLG0aP1mPh4ZzSDsDm1K5WTavvvFOPh4friVWrNHrhQmXk5podCwBKjYJukjp16uitt97Sjh07tH37dvXo0UNDhgzR3r17r3mMp6enkpKSim7HmbkUwE0yDEPvbtum3rNmKdzPT9vHjFE7ZmkHYMOcHB31j+7dNXPQIC06ckTtv/9e+8+dMzsWAJRKFbMD2KtBgwYV+/mNN97QJ598os2bN6tFixZXPcZisSiAD9AAblFGbq4eWLpUMw8e1MT27fV6585ydOD7WgCVw4iQELWqUUO3z5+v9t9/r+/699fQxo3NjgUAJcInMitQUFCgGTNmKDMzU1FRUdfcLyMjQ/Xq1VNQUNANR9sB4GouL6G2+MgRzR48WJO7dKGcA6h0mlavri13363o+vU1bN48vbxhgwq5Lh2ADWAE3UR79uxRVFSULl26pGrVqmnOnDlq3rz5VfcNCQnRV199pdDQUKWlpendd99Vx44dtXfvXtWpU+eavyMnJ0c5OTlFP6enp5f58wBgGxYdPqy7Fy+Wv7u7ttx9t5rXqGF2JAAoN9WcnTVr8GC9uWWLXly/XvFnzujb/v3l4exsdjQAuCaLwTSXpsnNzVViYqLS0tI0e/ZsffHFF1qzZs01S/r/ysvLU7NmzTR69Gi99tpr19zv5Zdf1iuvvHLF9rS0NHl6et5SfgC2wTAMvb11q55ft06DGjbUt/37y4tZ2gHYkQWHD+vuRYsU5OGheUOHqpGPj9mRAKuQnp4uLy8vuoEVoaBbkV69eqlhw4b67LPPSrT/iBEjVKVKFU2fPv2a+1xtBD0oKIh/hICduJSfrweXLtV/9u/XXzt00KudOsmBWdoB2KED585pyNy5Op2VpRkDByo6ONjsSIDpKOjWhwsPrUhhYWGxMn09BQUF2rNnj2rVqnXd/VxcXIqWcrt8A2AfkjIy1HXGDP34yy+aPnCgXu/cmXIOwG5dvi69Y+3a6v/TT3p32zbWSwdgdbgG3SSTJk1Sv379VLduXV28eFHTpk1TbGysli5dKkkaO3asAgMDNXnyZEnSq6++qg4dOqhRo0a6cOGC3nnnHR0/flwPPvigmU8DgJXanpysoXPnypC0btQollADAEnerq6aP2yYXli/Xs+sWaMD58/r41695OzoaHY0AJBEQTfN6dOnNXbsWCUlJcnLy0uhoaFaunSpevfuLUlKTEyUw//MrJyamqqHHnpIycnJ8vHxUdu2bbVx48YSXa8OwL78cOCAxsXEKLRGDc0dOlS1qlUzOxIAWA1HBwdN7tJFzapX10PLlulQaqp+HDJE1d3czI4GAFyDbm+4zgSovAzD0EsbNui1zZt1T/Pm+rxPH7lW4XtYALiW9SdPati8efJycdHCYcPUtHp1syMBFYpuYH24Bh0AKoFL+fm6Z/FivbZ5s9687TZ9268f5RwAbqBznTracvfdcnF0VIdp07Ti+HGzIwGwcxR0ALBxZ7Oy1HvWLP3488+aOWiQJkVGysJkcABQIg28vbXxrrvUoVYt9Z09W5/GxZkdCYAdo6ADgA37JTVVUdOm6eD581o9cqRGhISYHQkAbI6Xi4sWDh+ux1q31qMrVujp1atVyFWgAEzA+Y8AYKPWnTypoXPnys/dXZvvvlsNvL3NjgQANquKg4P+1bOnGvv46IlVq5R48aK+7ddPbk5OZkcDYEcYQQcAG/SfffvUa9YshdWsqY133UU5B4Ay8nibNpozdKgWHTmiXrNm6WxWltmRANgRCjoA2BDDMPTG5s26Z/Fi3dW0qWLuuEM+rq5mxwKASmVIo0ZaPXKkfklNVcfp03X4wgWzIwGwExR0ALARBYWFGr9ihV5Yv16vdOyor/r2lbOjo9mxAKBSiqxVS5vuvluSFPWf/2hLUpLJiQDYAwo6ANiA7Lw83TF/vv69e7e+iI7W3zp2ZKZ2AChnDb29tXH0aDX28VH3H37QvEOHzI4EoJKjoAOAlTufna3es2dr6bFjmjd0qB5o1crsSABgN2q4u2vFiBHqHxysYXPn6rP4eLMjAajEKOgAYMUS09PVefr0omXUBjRsaHYkALA7bk5Omjl4sCaEh+uR5cv16saNMliGDUA5YJk1ALBSu8+cUb8ff5SLo6M2jB6tJr6+ZkcCALvlYLHonz16yL9qVb2wfr1OZ2Xpnz16yNGB8S4AZYeCDgBWaO2JExo0Z44a+fho0fDhCqha1exIAGD3LBaL/tqhg/zc3fXI8uU6k52tb/v1k0sVPlIDKBt85QcAVmbh4cOK/vFHtQsIUOzIkZRzALAyD4WG6sfBgzXv0CEN+OknXczNNTsSgEqCgg4AVuQ/+/Zp6Ny56hccrEXDh8vD2dnsSACAqxjauLGW3XGHtqekqNsPP+h0ZqbZkQBUAhR0ALASH+7cqXsWL9bYFi00c9AguXLKJABYtS5BQVo7apR+zchQp+nTdTwtzexIAGwcBR0ATGYYhl7ZuFF/XrVKT7drpy+jo1WFSYcAwCaE1qypjaNHq9AwdNuMGfr5/HmzIwGwYXwCBAATFRqGnli1Si9v3Kg3b7tN73TtKovFYnYsAEApBHt7a93o0fJwdtZtM2Yo/vRpsyMBsFEUdAAwSX5hocYtWaKPdu3SJ716aVJkJOUcAGxU7WrVtGbkSAV5eKjbDz9o06+/mh0JgA2ioAOACXILCjRqwQJNP3BA0wYO1COtW5sdCQBwi2q4u2vlnXeqZY0a6j1rllYeP252JAA2hoIOABXsUn6+hs+bpwVHjujHwYM1qmlTsyMBAMqIl4uLlt5xh24LDNSAn37S/EOHzI4EwIZQ0AGgAmXm5mrQnDlalZioBcOGaXCjRmZHAgCUMXcnJ80bNkwDGzTQ8HnzNH3/frMjAbARFHQAqCDpOTnq99NP2vzrr1py++3qU7++2ZEAAOXE2dFRMwYN0j3Nm+uexYv1TUKC2ZEA2AAW2QWACpB66ZL6zp6tg6mpWj5ihDrUrm12JABAOavi4KCv+vaVk4OD7ouJUb5h6IFWrcyOBcCKUdABoJydycpSn9mzdeLiRa2680618fc3OxIAoII4WCz6rE8fOTk46MGlS5VXUMDEoACuiYIOAOXodGamesycqbPZ2Yq98061rFnT7EgAgArmYLFoSq9ecnZ01KMrVii3sFB/btPG7FgArBAFHQDKScrv5Tz10iWtGTVKIb6+ZkcCAJjEYrHo/e7d5eTgoCdWrVJeQYGejogwOxYAK0NBB4By8L/lfPXIkZRzAIAsFov+3rWrnB0d9Zc1a5RbWKhJkZFmxwJgRSjoAFDGkjMz1eOHH5SWm6vYkSPVhHIOAPidxWLR6507y9nRUc+vW6dCw9BfO3QwOxYAK0FBB4AylJyZqe4//KD038t5Yx8fsyMBAKyMxWLRSx07ytFi0Qvr18vRYtFERtIBiIIOAGUmKSNDPWbO1EXKOQCgBF6IilJ+YaEmrVsnR4tFz7Rvb3YkACajoANAGUjKyFD3mTOV8Xs5b0Q5BwCUwEsdO6rAMPTs2rVydHDQU+3amR0JgIko6ABwi05nZqon5RwAcBMsFote7dRJBYahp2Nj5WCx6Mm2bc2OBcAkFHQAuAXnsrPVa9YspebkaA3lHABwEywWi97o3FkFhYX6v9Wr5Wix6HHWSQfsEgUdAG7ShUuX1Gf2bCVnZjJbOwDgllgsFr3VpYsKDEN/XrVKDhaLxoeHmx0LQAWjoAPATUjPyVHfH3/UsbQ0rR45Us1r1DA7EgDAxlksFr3TtasKDUMTVq6Us6OjHgoNNTsWgApEQQeAUsrIzdWAn37SgfPntXLECIXWrGl2JABAJWGxWPRet27KKSjQn5YtU1UnJ93VrJnZsQBUEAo6AJRCdl6eBs+Zo7jTp7V8xAi1DQgwOxIAoJKxWCz6sGdPZeXlaezixXKrUkXDGjc2OxaACuBgdgB79cknnyg0NFSenp7y9PRUVFSUlixZct1jZs2apaZNm8rV1VWtWrXS4sWLKygtAEnKyc/XsHnztCUpSYtvv10datc2OxIAoJJysFj0RXS0bm/SRCMXLFDM0aNmRwJQASjoJqlTp47eeust7dixQ9u3b1ePHj00ZMgQ7d2796r7b9y4UaNHj9YDDzygXbt2aejQoRo6dKgSEhIqODlgn/ILCzV60SLFnjih+cOG6bY6dcyOBACo5BwdHPR9//7qGxysYfPmKTYx0exIAMqZxTAMw+wQ+I2vr6/eeecdPfDAA1fcN3LkSGVmZmrhwoVF2zp06KDWrVvr008/LfHvSE9Pl5eXl9LS0uTp6VkmuYHKrtAwdN+SJZp24IDmDBmigQ0bmh0JAGBHLuXna9CcOdr0669aMWIEZ3ChzNANrA8j6FagoKBAM2bMUGZmpqKioq66z6ZNm9SrV69i26Kjo7Vp06aKiAjYLcMw9MSqVfpu3z59178/5RwAUOFcq1TR3CFDFO7np74//qhdKSlmRwJQTijoJtqzZ4+qVasmFxcXPfLII5ozZ46aN29+1X2Tk5Pl7+9fbJu/v7+Sk5Ov+ztycnKUnp5e7Aag5F7csEEf7dqlT3v31qimTc2OAwCwU1WdnbVo+HA19vZWn9mzdfD8ebMjASgHFHQThYSEKC4uTlu2bNGjjz6qe++9V/v27SvT3zF58mR5eXkV3YKCgsr08YHK7J2tW/XG5s36e5cuejgszOw4AAA75+niopg77pCfu7t6z5qlEwy8AJUOBd1Ezs7OatSokdq2bavJkycrLCxM//znP6+6b0BAgFL+cDpTSkqKAm6wxNOkSZOUlpZWdDtx4kSZ5Qcqs8/i4/Xs2rX6a4cOeqZ9e7PjAAAgSaru5qZld9whB4tFfWbP1tmsLLMjAShDFHQrUlhYqJycnKveFxUVpZUrVxbbtnz58mtes36Zi4tL0VJul28Arm/6/v16dPlyPR4ertc6dTI7DgAAxQR6eGj5iBE6f+mS+v34o9Kv8fkRgO2hoJtk0qRJWrt2rY4dO6Y9e/Zo0qRJio2N1d133y1JGjt2rCZNmlS0/xNPPKGYmBi99957OnDggF5++WVt375dEyZMMOspAJVSzNGjGrtkicY0b64PevSQxWIxOxIAAFdo7OOjpXfcoZ9TUzV07lxdys83OxKAMkBBN8np06c1duxYhYSEqGfPntq2bZuWLl2q3r17S5ISExOVlJRUtH/Hjh01bdo0/fvf/1ZYWJhmz56tuXPnqmXLlmY9BaDS2ZKUpNvnzVPf+vX1Zd++cqCcAwCsWGs/Py0cPlybkpI0auFC5RcWmh0JwC1iHXQ7w1qHwNXtP3dOnadPV7Pq1bXsjjvk7uRkdiQAAEpk0eHDGjpvnu5p1owvmFEqdAPrwwg6ALt3Ij1d0bNnq3a1alowbBjlHABgUwY0bKhv+vXTN3v36tk1a8yOA+AWVDE7AACY6Vx2tqJnz5aDxaKY22+Xj6ur2ZEAACi1u5o107nsbP151SrVrlZNT7VrZ3YkADeBgg7AbmXm5mrgTz/pTHa21o8erUAPD7MjAQBw0x5v00ZJmZl6OjZWtapW1ehmzcyOBKCUKOgA7FJeQYFGLFigPWfPavWddyrE19fsSAAA3LI3OnfWrxkZunfJEtV0d1evevXMjgSgFLgGHYDdMQxDDy1bphXHj+unIUMUUauW2ZEAACgTFotFn/fpo55162rY3LnalZJidiQApUBBB2B3/rZhg77Zu1dT+/VTn/r1zY4DAECZcnJ01KzBg9WsenX1+/FHHblwwexIAEqIgg7ArnwWH6/XN2/W21266C6uzQMAVFLVnJ21aPhweTg7K3r2bJ3OzDQ7EoASoKADsBsLDx/WYytWaEJ4uJ6JiDA7DgAA5aqmu7uW3nGHLubmauCcOcrIzTU7EoAboKADsAtbk5I0csECDW7YUB907y6LxWJ2JAAAyl0Db28tvv127T93TqMWLlR+YaHZkQBcBwUdQKV3+MIFDfzpJ4X5+WnagAFydOCtDwBgP9r4+2v24MGKOXpUf165UoZhmB0JwDXwKRVApXYmK0t9Z8+Wj6ur5g8dKjcnJ7MjAQBQ4aKDg/Vp7976JD5e727bZnYcANfAOugAKq2svDwNnjNH6bm52nTXXarh7m52JAAATPNgaKiOpqXp2bVrVc/TU3c2bWp2JAB/QEEHUCkVGobuWbxYu8+c0ZpRo9TA29vsSAAAmO71zp11LD1dY5csUaCHhzoFBpodCcD/4BR3AJXSc2vWaN6hQ5oxaJDaBQSYHQcAAKtgsVj0VXS0OtSqpcFz5ujn8+fNjgTgf1DQAVQ6n8XH693t2/V+9+4a1LCh2XEAALAqLlWqaM7QofJzd1e/H39kjXTAilDQAVQqS48e1fgVK/R4eLj+3KaN2XEAALBKPq6uWjx8uDLz8jR47lxl5+WZHQmAKOgAKpE9Z85oxIIF6hscrPe7dzc7DgAAVi3Y21sLhw/X7jNndO+SJSpk+TXAdBR0AJVCUkaGBvz0kxp6e2vGwIGsdQ4AQAm0CwjQ9/37a9bPP+ulDRvMjgPYPT7BArB5mbm5GjxnjgoNQwuHDVM1Z2ezIwEAYDOGN2mit267Ta9v3qzv9+0zOw5g11hmDYBNu7yc2v7z57V+9GgFeniYHQkAAJvzbPv2OpiaqgeWLlV9T091rlPH7EiAXWIEHYBNe37dOs0/fFgzBg5Uaz8/s+MAAGCTLBaLPu3dWx1q1dKwefN05MIFsyMBdomCDsBmfZOQoLe3btW7XbtqIMupAQBwS5wdHfXTkCHydnHRwJ9+0oVLl8yOBNgdCjoAm7Tx1Ck9vHy5HmjVSk+2bWt2HAAAKoXqbm5aOHy4kjIzdeeCBcorKDA7EmBXKOgAbM7xtDQNnTtXHWrV0se9eslisZgdCQCASiPE11c/Dhmi1SdO6IlVq8yOA9gVCjoAm3IxN1eD5sxRNWdn/Th4sJwdHc2OBABApdOjbl190quXPomP18e7dpkdB7AbzOIOwGYUGobuWbRIx9LTtemuu1TD3d3sSAAAVFoPhoZqz9mz+vOqVWpavbp61K1rdiSg0mMEHYDNeH7dOi08ckQ/DByoFjVqmB0HAIBK771u3dS9bl2NmD9fh5nZHSh3FHQANuHbvXuLZmzv16CB2XEAALALVRwc9MPAgfJ1ddXgOXOUnpNjdiSgUqOgA7B6m3/9VQ8tW8aM7QAAmMDXzU0Lhg3TyYsXdc/ixSooLDQ7ElBpUdABWLVfMzI0fN48RQQEMGM7AAAmaVq9umYMHKiFhw/rhfXrzY4DVFoUdABW61J+vobPmydHBwdmbAcAwGT9GjTQ37t21Vtbt2ra/v1mxwEqJWZxB2CVDMPQo8uXK/7MGa0bNUr+VauaHQkAALv3dLt22nPmjB5YulSNvb0VUauW2ZGASoURdABW6cNduzR171593qeP2gUEmB0HAABIslgs+qxPH7WuWVPD5s1Tcmam2ZGASoWCDsDqrEpM1FOrV+vpdu10T/PmZscBAAD/w7VKFf04ZIgKDEMj5s9XbkGB2ZGASoOCDsCqHL1wQSPmz1ePunX1VpcuZscBAABXUbtaNf04eLC2JCXp/1avNjsOUGlQ0AFYjYzcXA2dN08+rq6aMXCgqjjwFgUAgLXqGBioD3v21Mdxcfpqzx6z4wCVApPEAbAKhmHo/pgYHblwQZvvvlu+bm5mRwIAADfwp7Aw7UhJ0aMrVqhljRpqz6RxwC1heMokkydPVkREhDw8POTn56ehQ4fq4MGD1z1m6tSpslgsxW6urq4VlBgoX+9t365ZP/+sb/r1U4saNcyOAwAASujDHj3U1t9fw5k0DrhlFHSTrFmzRuPHj9fmzZu1fPly5eXlqU+fPsq8wZuap6enkpKSim7Hjx+voMRA+VmVmKjn1q7VpMhIDW/SxOw4AACgFFyqVNHswYOZNA4oA5zibpKYmJhiP0+dOlV+fn7asWOHulxnYiyLxaIAlpxCJZKYnq6RCxaoZ926eq1TJ7PjAACAm3B50rhuP/yg/1u9WlN69TI7EmCTGEG3EmlpaZIkX1/f6+6XkZGhevXqKSgoSEOGDNHevXuvu39OTo7S09OL3QBrcSk/X7fPm6eqTk6aPnCgHJkUDgAAm/W/k8Z9zaRxwE1hBP0G5s+fX+pjevfuLbdSTHBVWFioJ598Up06dVLLli2vuV9ISIi++uorhYaGKi0tTe+++646duyovXv3qk6dOlc9ZvLkyXrllVdK/RyA8mYYhsavWKGEc+e0YfRoVWdSOAAAbN6fwsK0LTlZj61cqdZ+fgr39zc7EmBTLIZhGGaHsGYOpRzRs1gs+uWXX9SgQYMSH/Poo49qyZIlWr9+/TWL9tXk5eWpWbNmGj16tF577bWr7pOTk6OcnJyin9PT0xUUFKS0tDR5enqW+HcBZe2z+Hg9sny5pvbtq3uv88UUAACwLZfy89V5+nSdv3RJ2++5h5VZrFh6erq8vLzoBlaE80lLIDk5WYWFhSW6ubu7l+qxJ0yYoIULF2r16tWlKueS5OTkpPDwcB06dOia+7i4uMjT07PYDTDb5l9/1eMrV+qx1q0p5wAAVDKuv08al5aTozGLF6uQ8UCgxCjoN3DvvfeW6nT1e+65p0Ql2DAMTZgwQXPmzNGqVasUHBxc6mwFBQXas2eParHeJGxISmambp8/X+0CAvR+9+5mxwEAAOWgvpeX/jNggJYcParXN20yOw5gMzjF3SSPPfaYpk2bpnnz5ikkJKRou5eXV9EXAmPHjlVgYKAmT54sSXr11VfVoUMHNWrUSBcuXNA777yjuXPnaseOHWrevHmJfi+nscBM+YWF6jNrlvadO6edY8eqdrVqZkcCAADl6NWNG/Xyxo1afPvt6nsTA1IoX3QD68MkcaWQnp6ur7/+WsnJyQoODlZYWJhatWpV6tPaJemTTz6RJHXr1q3Y9q+//lrjxo2TJCUmJha7Bj41NVUPPfSQkpOT5ePjo7Zt22rjxo0lLueA2f62YYPWnDyplSNGUM4BALADL0RFaUtSku5etEg7xoxRfS8vsyMBVo0R9FLo1auX4uPjFRERocTERB08eFCS1LBhQ4WFhemHH34wOeGN8S0ZzLLg8GENnjNHb912m56LjDQ7DgAAqCDns7PV7vvv5evqqvWjR8u1CmOE1oJuYH3411EKmzZtUmxsrCIiIiT9NkP6nj17FBcXp/j4eJPTAdbr6IULGrt4sQY3bKhn2rc3Ow4AAKhAvm5u+nHwYHWcPl2Pr1ypz6OjzY4EWC0KeimEhoaqyv984+fi4qJ27dqpXbt2JqYCrNul/HzdsWCBfFxdNbVfPzlYLGZHAgAAFSzc31+f9Oql+2Ji1CkwUONYxQW4KmZxL4W///3v+tvf/lZsXXEA1/fEqlXae/asfhw8WD6urmbHAQAAJhnXsqUeaNVKj61YoT1nzpgdB7BKFPRSqF+/vtLT09W8eXM9//zzmj9/vk6cOGF2LMBqfbt3r/69e7c+6tlT4f7+ZscBAAAm+7BHDzX28dGIBQt0MTfX7DiA1aGgl8Ltt9+uY8eOqVOnTtq4caPuvfde1a9fXzVr1lSfPn3MjgdYlT1nzuiR5cs1rkULPdCqldlxAACAFXBzctKsQYP0a0aGHl62TMxXDRTHNeilkJCQoE2bNiksLKxo27Fjx7Rr1y7t3r3bxGSAdUnPydEd8+ersY+PpvTqJQvXnQMAgN818fXVF336aOTChepap44ead3a7EiA1aCgl0JERIQyMzOLbatfv77q16+vYcOGmZQKsC6GYehPy5crKTNTO8aMkbuTk9mRAACAlbmzaVOtO3VKT6xerYiAALUNCDA7EmAVOMW9FJ544gm9/PLLunDhgtlRAKv1+e7dmnHggD7v00eNfXzMjgMAAKzUu127KrRGDY1YsEAXLl0yOw5gFSwGF36UmIPDb99nVK9eXcOGDVNkZKTCw8PVsmVLOTs7m5yuZNLT0+Xl5aW0tDR5enqaHQeVTPzp04r8z390f8uW+rh3b7PjAAAAK3f0wgW1+e47dQsK0k9DhnBZXAWjG1gfRtBL4ejRo5o7d64ef/xxnTt3Tm+++aYiIiLk4eGh0NBQs+MBprqYm6sRCxaoWfXq+kf37mbHAQAANiDY21vf9OunuYcO6f0dO8yOA5iOa9BLoV69eqpXr54GDx5ctO3ixYuKi4tjkjjYNcMw9Kdly5SUkaGdY8fKtQpvLQAAoGQGN2qkZyIi9NzateoUGKjIWrXMjgSYhhH0G9i9e7cKCwuveb+Hh4duu+02jR8/XpK0d+9e5efnV1Q8wCp8sWePph84oM+jo7nuHAAAlNobnTurnb+/RnE9OuwcBf0GwsPDde7cuRLvHxUVpcTExHJMBFiX+NOn9fjKlXokLEyjmjY1Ow4AALBBTo6Omj5woC7k5OjBpUtZHx12i/NQb8AwDL344otyd3cv0f65ubnlnAiwHhdzc3XnggVq6uur97nuHAAA3IL6Xl76Mjpat8+fr0/j4/Uo66PDDlHQb6BLly46ePBgifePioqSm5tbOSYCrINhGHp0+XL9mpGhHWPGcN05AAC4ZcObNNH41q31f6tXK6p2bbX28zM7ElCh+ER9A7GxsWZHAKzSN3v36j/79+s/Awaoia+v2XEAAEAl8W63btrw668auWCBdowZo2o2spwxUBa4Bh1AqR08f17jV6zQfS1b6q5mzcyOAwAAKhHXKlX0w8CBOpWRocdWrDA7DlChKOgASiUnP1+jFi5UkKenPuzRw+w4AACgEmri66tPe/fWd/v26ZuEBLPjABWGgg6gVJ5du1b7zp3TjIEDVZVTzgAAQDm5p3lz3deypR5bsUIHSrGqEmDLKOilsG3bNvXs2VOhoaEaPny4Xn31Vc2fP59l1WA3Fhw+rH/t3Kl3u3Zl0hYAAFDuPuzRQ/U8PTVy4UJdys83Ow5Q7ijopTBmzBg5Ojrq4YcfVnBwsNasWaP77rtP9evXV/Xq1c2OB5SrUxcv6r6YGA1u2FATwsPNjgMAAOxAVWdnTR84UAfOn9fEtWvNjgOUO2ZxL4UTJ05o0aJFatiwYbHtx48fV1xcnDmhgApQUFioexYvlqujo77q21cWi8XsSAAAwE6E+fnpna5d9cSqVepTv776N2hgdiSg3DCCXgqdOnXSyZMnr9her149DRkyxIREQMWYvGWL1pw4oe/791d1Nzez4wAAADvzeHi4+gcHa9ySJUrKyDA7DlBuKOg3MHz4cL388suaM2eOHnnkEb322mtKTU01OxZQYTacOqWXN27UCx06qFvdumbHAQAAdshisejrvn3lYLFoXEyMCg3D7EhAueAU9xto2LChNmzYoI8//lhnz56VJDVp0kRDhgxRhw4dFB4erlatWsmZ2axRCV24dEl3L1qkDrVr628dO5odBwAA2DG/qlX1bf/+ip49W+9v366nIyLMjgSUOYth8PVTSZ06dUpxcXHFbkeOHFGVKlUUEhKi3bt3mx3xhtLT0+Xl5aW0tDR5enqaHQdW7u5Fi7Tw8GHtvvde1fPyMjsOAACAnomN1T937tSmu+5S24AAs+PYNLqB9WEEvRQCAwMVGBioAQMGFG3LyMhQXFyc4uPjTUwGlL3v9+3TtP37NW3AAMo5AACwGm/cdptWnTih0YsWaeeYMarGmayoRLgG/RZVq1ZNnTt31vjx482OApSZoxcu6LEVK3RP8+Ya3ayZ2XEAAACKODs6avqAAfo1I0NPrFpldhygTFHQARST//uSajXc3DSlZ0+z4wAAAFyhia+vPuzRQ18lJGjWwYNmxwHKDAUdQDFvbN6szUlJ+r5/f3m6uJgdBwAA4KrGtWypEU2a6E/Ll+vkxYtmxwHKBAUdQJGNp07p1U2b9GKHDuoYGGh2HAAAgGuyWCz6tHdvuVeponFLlrD0GioFCjoASVJ6To7uWbxYkbVq6YWoKLPjAAAA3JCvm5u+6ddPKxMT9cGOHWbHAW4ZBR2AJGnCypU6m52t7/v3VxUH3hoAAIBt6Fmvnp5q21aT1q3T7jNnzI4D3BI+hQPQjAMH9N2+fZrSs6caeHubHQcAAKBU3rjtNoX4+OjuRYt0KT/f7DjATaOgA3bu5MWLenT5ct0ZEqJ7mjc3Ow4AAECpuVapov8MGKBfUlM1ad06s+MAN42CDtixQsPQuCVL5O7kpE969ZLFYjE7EgAAwE1pVbOm3urSRR/s2KHlx46ZHQe4KRR0wI59tGuXViYmamrfvvJ1czM7DgAAwC35c5s26lWvnsbFxOhcdrbZcYBSo6CbZPLkyYqIiJCHh4f8/Pw0dOhQHTx48IbHzZo1S02bNpWrq6tatWqlxYsXV0BaVEb7zp7Vc2vX6vHwcPWuX9/sOAAAALfMwWLRN/366VJ+vh5etkwGS6/BxlDQTbJmzRqNHz9emzdv1vLly5WXl6c+ffooMzPzmsds3LhRo0eP1gMPPKBdu3Zp6NChGjp0qBISEiowOSqD3IICjVmyRPU9PfVWly5mxwEAACgztatV07/79NFPv/yi7/btMzsOUCoWg6+VrMKZM2fk5+enNWvWqMs1CtPIkSOVmZmphQsXFm3r0KGDWrdurU8//bREvyc9PV1eXl5KS0uTp6dnmWSH7Xlh/Xq9vXWrNt91l9oGBJgdBwAAoMyNXbxY8w4d0p5x41SXz71XRTewPoygW4m0tDRJkq+v7zX32bRpk3r16lVsW3R0tDZt2nTNY3JycpSenl7sBvu28dQpTd6yRS937Eg5BwAAlda/evSQp4uL7ouJUSFjkrARFHQrUFhYqCeffFKdOnVSy5Ytr7lfcnKy/P39i23z9/dXcnLyNY+ZPHmyvLy8im5BQUFllhu2JyM3V2MWL1ZkrVp6rn17s+MAAACUG29XV03t21erEhP10a5dZscBSoSCbgXGjx+vhIQEzZgxo8wfe9KkSUpLSyu6nThxosx/B2zHU7GxSsnK0rf9+qmKA//8AQBA5dazXj39uU0bPbd2rQ6cO2d2HOCG+IRusgkTJmjhwoVavXq16tSpc919AwIClJKSUmxbSkqKAq5zmrKLi4s8PT2L3WCfFh0+rM9379Y/unVTIx8fs+MAAABUiMm33aZ6np4as3ix8goKzI4DXBcF3SSGYWjChAmaM2eOVq1apeDg4BseExUVpZUrVxbbtnz5ckVFRZVXTFQS57Kz9eCyZeoXHKyHQkPNjgMAAFBh3J2c9G2/ftp1+rTe3LLF7DjAdVHQTTJ+/Hh9//33mjZtmjw8PJScnKzk5GRlZ2cX7TN27FhNmjSp6OcnnnhCMTExeu+993TgwAG9/PLL2r59uyZMmGDGU4ANeXzlSuUUFOiL6GhZLBaz4wAAAFSo9rVq6a8dOui1TZu0/TrzNwFmo6Cb5JNPPlFaWpq6deumWrVqFd1++OGHon0SExOVlJRU9HPHjh01bdo0/fvf/1ZYWJhmz56tuXPnXndiOWDWwYOafuCAPurZU7WrVTM7DgAAgCle6NBBYX5+GrN4sbLz8syOA1wV66DbGdY6tC8pmZlqMXWqutWpo1mDBzN6DgAA7Nq+s2fV5rvv9EhYmD7o0cPsOKajG1gfRtCBSsowDD28bJkcJH3SuzflHAAA2L3mNWpo8m236Z87d2oNqxvBClHQgUrqu337NP/wYf27Tx/VdHc3Ow4AAIBVeKJtW91Wp47uj4lRRm6u2XGAYijoQCV0Ij1df161SmOaN9fQxo3NjgMAAGA1HCwWfRUdreTMTE1cu9bsOEAxFHSgkjEMQw8sXapqTk76J9dWAQAAXKGRj4/e7tJFU+LitCox0ew4QBEKOlDJfBYfr+XHj+vL6Gj5uLqaHQcAAMAqPRYerm5BQbo/JkYXOdUdVoKCDlQiRy9c0F/WrNHDoaGKDg42Ow4AAIDVunyq+9nsbD2zZo3ZcQBJFHSg0ij8/dT2Gm5uerdbN7PjAAAAWL1gb2+927WrPouP17Jjx8yOA1DQgcri3/HxWn3ihL6MjpaHs7PZcQAAAGzCn8LC1KtePT24dKnScnLMjgM7R0EHKoFjaWl6Zs0a/SksTD3r1TM7DgAAgM2wWCz6ok8fXcjJ0dOxsWbHgZ2joAM2zjAMPbh0qXxdXfX3Ll3MjgMAAGBz6nl56R/duunLPXu0+MgRs+PAjlHQARv3+e7dWpmYqC+io+Xp4mJ2HAAAAJv0QKtWiq5fXw8vW8ap7jANBR2wYcfT0vR0bKweCg1V7/r1zY4DAABgsywWi/7dp4/Sc3OZ1R2moaADNsowDD20bJl8XF31bteuZscBAACweXU9PfVO1676fPdurTh+3Ow4sEMUdMBGfblnj5YfP67P+/Th1HYAAIAy8lBoqLoHBemhpUuVkZtrdhzYGQo6YIMS09P1VGys7m/ZUtHBwWbHAQAAqDQcLBZ9Hh2t01lZmrRundlxYGco6ICNMQxDf1q2TJ7OznqvWzez4wAAAFQ6Db299eZtt+mjXbu07uRJs+PAjlDQARvz/b59ijl2TJ/17i1vV1ez4wAAAFRKE8LD1bF2bd0fE6OsvDyz48BOUNABG5KSmaknV6/W3c2aaUDDhmbHAQAAqLQcHRz0Vd++OnHxol7asMHsOLATFHTAhjy+cqUcLBZ90L272VEAAAAqvRBfX73aqZP+sWOHtiQlmR0HdoCCDtiIOb/8olk//6wPe/ZUDXd3s+MAAADYhafatVMbPz/dHxOjnPx8s+OgkqOgAzYg9dIlPbZihQY1bKiRISFmxwEAALAbVRwc9HXfvvolNVWvb95sdhxUchR0wAb8JTZWWXl5+qRXL1ksFrPjAAAA2JWWNWvq+chIvbV1q/acOWN2HFRiFHTAyi0/dkxfJSTo3W7dFOjhYXYcAAAAuzQpMlKNvb314NKlKigsNDsOKikKOmDFMnJz9fCyZeoeFKQHW7UyOw4AAIDdcqlSRV/27attycn6cNcus+OgkqpidgAA1/bC+vVKycrS8hEjOLUdAADAZFG1a2tCeLj+um6dov2CVV1XTtxb1bOKqnpRs3BzeOUAVmrTr7/qXzt36p2uXdXIx8fsOAAAAJD0xm23ae6hQ/p41j6FnAi44v6IaB9F9q1uQjJUBpziDlih3IICPbR0qdr6++uJtm3NjgMAAGBXMtPytSXmnDLTrlxWzcPZWZ/17q1v83bJpU+WHPKOK2HFVjnkHdfgP/mpZZTXTT82wAg6YIXe3rpVB86f144xY1TFge/RAAAAKlJmer62LU1VcIuqVz1dvV+DBhrQsJ6mP7BAVVMMSdKpfUeUEPuL3tt8/y09NuwbrwjAyhw8f16vb96sv0REKMzPz+w4AAAAdis1Jfea93Xe7K5FyYUyjP9uO7H/rGa8vkkDxkfe1GMCFHTAihQahh5etkxBHh56KSrK7DgAAAB2bfl/Tl/zvoQVp+Vgscj434YuacuiU8rMOVne0VBJUdABK/LVnj1ae/KkVowYITcnJ7PjAAAA2LXed/vJx9/5qvdVdTmln/YduWJ75IBADRhf55qPmZqSe93iD/tGQQesRHJmpp5Zs0b3tmihnvXqmR0HAADA7vn4O8svyPWq9416IUrbFu7Xif1ni7YFNauhUS9Eya3a1Us9cCMUdMBK/HnlSjk5OOi9bt3MjgIAAGDXqnpWUUS0j6p6XrsuFRY4aOLsu7Two23avSZFoV39NXBChAoLrj/Bb0keG/bLYvzxoglUaunp6fLy8lJaWpo8PT3NjoPfLTh8WIPnzNF/BgzQXc2amR0HAAAAN7Al5py2LU29YrstrYNON7A+fG0DmOxibq4eW7FCfevX1+imTc2OAwAAgBJoGeWl4BZVr9jOyDhuBa8ewGQvrF+v89nZ+qR3b1ksFrPjAAAAoASqelVhHXOUuetfIIFytXbtWg0aNEi1a9eWxWLR3Llzr7t/bGysLBbLFbfk5OSKCYwytzUpSR/u3KnXOndWfS8vs+MAAAAAMBEF3USZmZkKCwvTlClTSnXcwYMHlZSUVHTz8/Mrp4QoT/mFhfrT8uVq7eenP7dpY3YcAAAAACbjnAwT9evXT/369Sv1cX5+fvL29i77QKhQ/9q5U/GnT2vL3XerigPflQEAAAD2jlZgg1q3bq1atWqpd+/e2rBhg9lxcBMS09P1tw0bND48XBG1apkdBwAAAIAVYATdhtSqVUuffvqp2rVrp5ycHH3xxRfq1q2btmzZojbXOEU6JydHOTk5RT+np6dXVFxcx59XrZKns7Ne79zZ7CgAAAAArAQF3YaEhIQoJCSk6OeOHTvq8OHDev/99/Xdd99d9ZjJkyfrlVdeqaiIKIF5hw5p3qFDmjVokLxcXMyOAwAAAMBKcIq7jWvfvr0OHTp0zfsnTZqktLS0otuJEycqMB3+6GJuriasXKn+wcG6vUkTs+MAAAAAsCKMoNu4uLg41brONcwuLi5yYZTWary0YYPOZWdrSq9erHkOAAAAoBgKuokyMjKKjX4fPXpUcXFx8vX1Vd26dTVp0iSdOnVK3377rSTpgw8+UHBwsFq0aKFLly7piy++0KpVq7Rs2TKzngJKYVdKiv65c6feZM1zAAAAAFdBQTfR9u3b1b1796Kfn3rqKUnSvffeq6lTpyopKUmJiYlF9+fm5urpp5/WqVOn5O7urtDQUK1YsaLYY8A6Ffy+5nnz6tX1VLt2ZscBAAAAYIUshmEYZodAxUlPT5eXl5fS0tLk6elpdhy7MWXXLk1YuVIbRo9Wx8BAs+MAAAAAdAMrxCRxQDlLysjQ8+vW6aHQUMo5AAAAgGuioAPl7C9r1sjZ0VFv3Xab2VEAAAAAWDGuQQfK0arERE3bv19f9+0rXzc3s+MAAAAAsGKMoAPlJLegQI+tWKHOgYEa26KF2XEAAAAAWDlG0IFy8t727TqUmqpZgwbJgTXPAQAAANwAI+hAOTiWlqbXNm3Sk23bqlXNmmbHAQAAAGADKOhAOXhi1Sr5urrqpY4dzY4CAAAAwEZwijtQxuYfOqT5hw9r1qBB8nB2NjsOAAAAABvBCDpQhrLy8vTnVasUXb++bm/SxOw4AAAAAGwII+hAGXpj82YlZ2ZqxYgRsjAxHAAAAIBSYAQdKCMHzp3TO9u2aWL79mrk42N2HAAAAAA2hoIOlAHDMDRh5UoFeXjoufbtzY4DAAAAwAZxijtQBmb//LNWJiZq4bBhcnNyMjsOAAAAABvECDpwizJyc/VUbKwGNWyoAQ0bmh0HAAAAgI2ioAO36M0tW3QmK0sfdO9udhQAAAAANoyCDtyCn8+f17u/TwzXwNvb7DgAAAAAbBgFHbhJhmHoz6tWKbBaNSaGAwAAAHDLmCQOuElzDx3S0mPHNHfoUCaGAwAAAHDLGEEHbkJWXp7+b/Vq9QsO1mAmhgMAAABQBhhBB27CW1u2KCkzUytGjJDFYjE7DgAAAIBKgBF0oJQOX7igv2/bpmciItTIx8fsOAAAAAAqCQo6UEpPrFolf3d3PR8ZaXYUAAAAAJUIp7gDpbDw8GEtOnJEswcPljsTwwEAAAAoQ4ygAyWUk5+vJ1evVq969TS8cWOz4wAAAACoZBhBB0rogx07dCwtTfOHDmViOAAAAABljhF0oAR+zcjQa5s36/E2bdS8Rg2z4wAAAACohCjoQAk8t3at3KtU0UtRUWZHAQAAAFBJcYo7cAMbT53S9/v26fM+feTt6mp2HAAAAACVFCPowHUUFBbqz6tWqa2/v+5r2dLsOAAAAAAqMUbQgev4OiFBO1JStGH0aDk68H0WAAAAgPJD4wCu4cKlS5q0bp3uad5cHQMDzY4DAAAAoJKjoAPX8MqmTcrOz9fbXbqYHQUAAACAHaCgA1ex7+xZfbhzp17s0EG1q1UzOw4AAAAAO0BBB/7AMAw9sXq1gr289GTbtmbHAQAAAGAnmCQO+IP5hw9rxfHjmj9smFyq8E8EAAAAQMVgBB34Hzn5+Xo6NlZ96tfXwAYNzI4DAAAAwI4wPAj8j3/t3KljaWmaP3SoLBaL2XEAAAAA2BFG0E20du1aDRo0SLVr15bFYtHcuXNveExsbKzatGkjFxcXNWrUSFOnTi33nPYiJTNTr23erEdbt1bzGjXMjgMAAADAzlDQTZSZmamwsDBNmTKlRPsfPXpUAwYMUPfu3RUXF6cnn3xSDz74oJYuXVrOSe3DC+vXq4qDg17u2NHsKAAAAADsEKe4m6hfv37q169fiff/9NNPFRwcrPfee0+S1KxZM61fv17vv/++oqOjyyumXYg7fVpf7tmjD3r0UHU3N7PjAAAAALBDjKDbkE2bNqlXr17FtkVHR2vTpk0mJaocDMPQk6tWqamvrx4NCzM7DgAAAAA7xQi6DUlOTpa/v3+xbf7+/kpPT1d2drbcrjLym5OTo5ycnKKf09PTyz2nrfnpl1+05uRJLbn9djk5OpodBwAAAICdYgS9kps8ebK8vLyKbkFBQWZHsiqX8vP1l9hY9Q8OVt/gYLPjAAAAALBjFHQbEhAQoJSUlGLbUlJS5OnpedXRc0maNGmS0tLSim4nTpyoiKg24/0dO3QyI0P/6N7d7CgAAAAA7BynuNuQqKgoLV68uNi25cuXKyoq6prHuLi4yMXFpbyj2aSkjAy9uXmzJoSHK8TX1+w4AAAAAOwcI+gmysjIUFxcnOLi4iT9toxaXFycEhMTJf02+j127Nii/R955BEdOXJEzz77rA4cOKCPP/5YM2fO1P/93/+ZEd/m/XX9erlUqaK/XecLDgAAAACoKBR0E23fvl3h4eEKDw+XJD311FMKDw/X3/72N0lSUlJSUVmXpODgYC1atEjLly9XWFiY3nvvPX3xxRcssXYTdqakaGpCgl7t2FE+rq5mxwEAAAAAWQzDMMwOgYqTnp4uLy8vpaWlydPT0+w4pjAMQz1mzlRKZqZ2jxunKg58TwUAAAD7QzewPlyDDrsz//BhxZ44ocXDh1POAQAAAFgN2gnsSm5BgZ5Zs0Z96tdnWTUAAAAAVoURdNiVT+PjdfjCBf04eLAsFovZcQAAAACgCCPosBvns7P18saNerBVK7WqWdPsOAAAAABQDAUdduP1zZuVV1CgVzt1MjsKAAAAAFyBgg678Etqqj7atUvPd+gg/6pVzY4DAAAAAFegoMMuPLd2rWpVraon27QxOwoAAAAAXBWTxKHSW3PihOb88oumDRggNycns+MAAAAAwFUxgo5KrdAw9FRsrCJr1dKopk3NjgMAAAAA18QIOiq17/ft086UFG0YPZpl1QAAAABYNUbQUWll5eXp+XXrNKJJE3UMDDQ7DgAAAABcFwUdldYHO3bodFaWJnfpYnYUAAAAALghCjoqpdOZmXpr61aNDw9XQ29vs+MAAAAAwA1R0FEpvbJpkxwsFr3QoYPZUQAAAACgRCjoqHQOnj+vz+Lj9dfISFV3czM7DgAAAACUCAUdlc7EtWtVx8NDj7dpY3YUAAAAACgxlllDpbLu5EnNPXRI/xkwQK5VeHkDAAAAsB2MoKPSMAxDf4mNVVt/f41q2tTsOAAAAABQKgwxotKYefCgtiYna/Wdd8rBYjE7DgAAAACUCiPoqBRy8vM1ad06DWrYUN3q1jU7DgAAAACUGiPoqBSmxMUpMT1di4YPNzsKAAAAANwURtBh81IvXdLrmzfrwdBQNate3ew4AAAAAHBTKOiweW9u3qzcggK93LGj2VEAAAAA4KZR0GHTEtPT9eGuXXomIkIBVauaHQcAAAAAbhoFHTbtxfXr5eXioqfatTM7CgAAAADcEgo6bNbuM2f03b59eikqSh7OzmbHAQAAAIBbQkGHzZq4dq0a+fjoodBQs6MAAAAAwC1jmTXYpNWJiVpy9KhmDRokJ0dHs+MAAAAAwC1jBB02p9Aw9OyaNWofEKDbmzQxOw4AAAAAlAlG0GFzZh88qO0pKYodOVIWi8XsOAAAAABQJhhBh03JLSjQ8+vXa0CDBuoaFGR2HAAAAAAoM4ygw6b8Oz5eRy5c0JwhQ8yOAgAAAABlioIOq5eZlq/M9Hxl5efr36sT9EhQG/lf8lBmWr6qevESBgAAAFA50G5g9RI2pWnb0lRJ0sPqKJ2UZm4+qYhoH0X2rW5yOgAAAAAoG1yDDtNkpuVrS8w5ZablX3e/llFe6nyvp37au1wJK7bKIe+4Bv/JTy2jvG75sQEAAADAWlDQYZrM9HxtW5qqzPTrl2gHx0J9fNdsua84q1P7jmjJJ5v01h3T5OBYeMuPDQAAAADWglPcYbrUlNzr3r9oyhYlHTwvGZJhGJKkE/vPasbrmzRgfORNPSYAAAAAWBsKusmmTJmid955R8nJyQoLC9OHH36o9u3bX3XfqVOn6r777iu2zcXFRZcuXaqIqOVm+X9OX/f+hBWnrrp9y6JTysw5WR6RAAAAAKDCUdBN9MMPP+ipp57Sp59+qsjISH3wwQeKjo7WwYMH5efnd9VjPD09dfDgwaKfLRZLRcUtN73v9pOPv/M176/qcko/7TtyxfbIAYEaML7OVY9JTcm9YfEHAAAAAGtCQTfRP/7xDz300ENFo+KffvqpFi1apK+++koTJ0686jEWi0UBAQEVGbPc+fg7yy/I9Zr3j3ohStsW7teJ/WeLtgU1q6FRL0TJrdq1iz0AAAAA2BImiTNJbm6uduzYoV69ehVtc3BwUK9evbRp06ZrHpeRkaF69eopKChIQ4YM0d69e6/7e3JycpSenl7sZi2qelZRRLSPqnpe/3uiwgIHTZx9l/o9GqXA5g3U79EoTZx9lwoLrv3yLeljAwAAAIC1oKCb5OzZsyooKJC/v3+x7f7+/kpOTr7qMSEhIfrqq680b948ff/99yosLFTHjh118uS1r8OePHmyvLy8im5BQUFl+jxuRVWvKorsW11Vva5fohM2pWn+Z6dV6FRPLXu1V6FTPc3/7LQSNqXd8mMDAAAAgLWgvdiQqKgoRUVFFf3csWNHNWvWTJ999plee+21qx4zadIkPfXUU0U/p6enW1VJL4mWUV4KblH1iu2MjgMAAACoTGg4JqlRo4YcHR2VkpJSbHtKSkqJrzF3cnJSeHi4Dh06dM19XFxc5OLicktZzVbVqwoj4QAAAAAqPU5xN4mzs7Patm2rlStXFm0rLCzUypUri42SX09BQYH27NmjWrVqlVdMAAAAAEAFYVjSRE899ZTuvfdetWvXTu3bt9cHH3ygzMzMolndx44dq8DAQE2ePFmS9Oqrr6pDhw5q1KiRLly4oHfeeUfHjx/Xgw8+aObTAAAAAACUAQq6iUaOHKkzZ87ob3/7m5KTk9W6dWvFxMQUTRyXmJgoB4f/nuSQmpqqhx56SMnJyfLx8VHbtm21ceNGNW/e3KynAAAAAAAoIxbDMAyzQ6DipKeny8vLS2lpafL09DQ7DgAAAACT0A2sD9egAwAAAABgBSjoAAAAAABYAQo6AAAAAABWgIIOAAAAAIAVoKADAAAAAGAFKOgAAAAAAFgBCjoAAAAAAFaAgg4AAAAAgBWgoAMAAAAAYAWqmB0AFcswDElSenq6yUkAAAAAmOlyJ7jcEWA+CrqduXjxoiQpKCjI5CQAAAAArMHFixfl5eVldgxIshh8XWJXCgsL9euvv8rDw0MWi8XsOFYlPT1dQUFBOnHihDw9Pc2OAyvGawUlxWsFJcHrBCXFawUlUZrXiWEYunjxomrXri0HB65+tgaMoNsZBwcH1alTx+wYVs3T05P/00OJ8FpBSfFaQUnwOkFJ8VpBSZT0dcLIuXXhaxIAAAAAAKwABR0AAAAAACtAQQd+5+LiopdeekkuLi5mR4GV47WCkuK1gpLgdYKS4rWCkuB1YtuYJA4AAAAAACvACDoAAAAAAFaAgg4AAAAAgBWgoAMAAAAAYAUo6AAAAAAAWAEKOuza+fPndffdd8vT01Pe3t564IEHlJGRcd1junXrJovFUuz2yCOPVFBiVJQpU6aofv36cnV1VWRkpLZu3Xrd/WfNmqWmTZvK1dVVrVq10uLFiysoKcxWmtfK1KlTr3j/cHV1rcC0MMPatWs1aNAg1a5dWxaLRXPnzr3hMbGxsWrTpo1cXFzUqFEjTZ06tdxzwlylfZ3ExsZe8X5isViUnJxcMYFhmsmTJysiIkIeHh7y8/PT0KFDdfDgwRsex2cV20BBh127++67tXfvXi1fvlwLFy7U2rVr9fDDD9/wuIceekhJSUlFt7///e8VkBYV5YcfftBTTz2ll156STt37lRYWJiio6N1+vTpq+6/ceNGjR49Wg888IB27dqloUOHaujQoUpISKjg5KhopX2tSJKnp2ex94/jx49XYGKYITMzU2FhYZoyZUqJ9j969KgGDBig7t27Ky4uTk8++aQefPBBLV26tJyTwkylfZ1cdvDgwWLvKX5+fuWUENZizZo1Gj9+vDZv3qzly5crLy9Pffr0UWZm5jWP4bOK7WCZNdit/fv3q3nz5tq2bZvatWsnSYqJiVH//v118uRJ1a5d+6rHdevWTa1bt9YHH3xQgWlRkSIjIxUREaGPPvpIklRYWKigoCA9/vjjmjhx4hX7jxw5UpmZmVq4cGHRtg4dOqh169b69NNPKyw3Kl5pXytTp07Vk08+qQsXLlRwUlgLi8WiOXPmaOjQodfc57nnntOiRYuKfXAeNWqULly4oJiYmApICbOV5HUSGxur7t27KzU1Vd7e3hWWDdbnzJkz8vPz05o1a9SlS5er7sNnFdvBCDrs1qZNm+Tt7V1UziWpV69ecnBw0JYtW6577H/+8x/VqFFDLVu21KRJk5SVlVXecVFBcnNztWPHDvXq1atom4ODg3r16qVNmzZd9ZhNmzYV21+SoqOjr7k/Koebea1IUkZGhurVq6egoCANGTJEe/furYi4sCG8p6A0WrdurVq1aql3797asGGD2XFggrS0NEmSr6/vNffhfcV2VDE7AGCW5OTkK04Dq1Klinx9fa97/dZdd92levXqqXbt2tq9e7eee+45HTx4UD/99FN5R0YFOHv2rAoKCuTv719su7+/vw4cOHDVY5KTk6+6P9cBVm4381oJCQnRV199pdDQUKWlpendd99Vx44dtXfvXtWpU6ciYsMGXOs9JT09XdnZ2XJzczMpGaxJrVq19Omnn6pdu3bKycnRF198oW7dumnLli1q06aN2fFQQQoLC/Xkk0+qU6dOatmy5TX347OK7aCgo9KZOHGi3n777evus3///pt+/P+9Rr1Vq1aqVauWevbsqcOHD6thw4Y3/bgAKr+oqChFRUUV/dyxY0c1a9ZMn332mV577TUTkwGwNSEhIQoJCSn6uWPHjjp8+LDef/99fffddyYmQ0UaP368EhIStH79erOjoIxQ0FHpPP300xo3btx192nQoIECAgKumMgpPz9f58+fV0BAQIl/X2RkpCTp0KFDFPRKoEaNGnJ0dFRKSkqx7SkpKdd8XQQEBJRqf1QON/Na+SMnJyeFh4fr0KFD5RERNupa7ymenp6MnuO62rdvT1GzIxMmTCia5PhGZ2HxWcV2cA06Kp2aNWuqadOm1705OzsrKipKFy5c0I4dO4qOXbVqlQoLC4tKd0nExcVJ+u1UM9g+Z2dntW3bVitXrizaVlhYqJUrVxYb+fxfUVFRxfaXpOXLl19zf1QON/Na+aOCggLt2bOH9w8Uw3sKblZcXBzvJ3bAMAxNmDBBc+bM0apVqxQcHHzDY3hfsSEGYMf69u1rhIeHG1u2bDHWr19vNG7c2Bg9enTR/SdPnjRCQkKMLVu2GIZhGIcOHTJeffVVY/v27cbRo0eNefPmGQ0aNDC6dOli1lNAOZgxY4bh4uJiTJ061di3b5/x8MMPG97e3kZycrJhGIYxZswYY+LEiUX7b9iwwahSpYrx7rvvGvv37zdeeuklw8nJydizZ49ZTwEVpLSvlVdeecVYunSpcfjwYWPHjh3GqFGjDFdXV2Pv3r1mPQVUgIsXLxq7du0ydu3aZUgy/vGPfxi7du0yjh8/bhiGYUycONEYM2ZM0f5Hjhwx3N3djWeeecbYv3+/MWXKFMPR0dGIiYkx6ymgApT2dfL+++8bc+fONX755Rdjz549xhNPPGE4ODgYK1asMOspoII8+uijhpeXlxEbG2skJSUV3bKysor24bOK7aKgw66dO3fOGD16tFGtWjXD09PTuO+++4yLFy8W3X/06FFDkrF69WrDMAwjMTHR6NKli+Hr62u4uLgYjRo1Mp555hkjLS3NpGeA8vLhhx8adevWNZydnY327dsbmzdvLrqva9euxr333lts/5kzZxpNmjQxnJ2djRYtWhiLFi2q4MQwS2leK08++WTRvv7+/kb//v2NnTt3mpAaFWn16tWGpCtul18b9957r9G1a9crjmndurXh7OxsNGjQwPj6668rPDcqVmlfJ2+//bbRsGFDw9XV1fD19TW6detmrFq1ypzwqFBXe51IKvY+wWcV28U66AAAAAAAWAGuQQcAAAAAwApQ0AEAAAAAsAIUdAAAAAAArAAFHQAAAAAAK0BBBwAAAADAClDQAQAAAACwAhR0AAAAAACsAAUdAAAAAAArQEEHAAAAAMAKUNABAKjEunXrJovFIovFori4uFt6rHHjxhU91ty5c8skHwAA+C8KOgAAldxDDz2kpKQktWzZ8pYe55///KeSkpLKKBUAAPijKmYHAAAA5cvd3V0BAQG3/DheXl7y8vIqg0QAAOBqGEEHAMAGTZ8+XW5ubsVGtO+77z6FhoYqLS3thscfO3ZMFotFP/74o7p06SI3NzdFREQoMTFR69atU4cOHeTu7q6ePXvqwoUL5fhMAADAZRR0AABs0KhRo9SkSRO9+eabkqSXXnpJK1as0JIlS0o0yh0fHy9J+uSTT/Tmm29q48aNSklJ0T333KO33npLH330kVavXq34+Hh9/fXX5fpcAADAbzjFHQAAG2SxWPTGG2/ojjvuUEBAgD788EOtW7dOgYGBJTo+Li5Ovr6++uGHH1S9enVJUteuXbV+/Xrt3btX7u7ukqSIiAglJyeX2/MAAAD/xQg6AAA2auDAgWrevLleffVVzZkzRy1atCjxsfHx8Ro2bFhROZekxMREjRw5sqicX94WHBxcprkBAMDVUdABALBRMTExOnDggAoKCuTv71+qY+Pi4hQZGVlsW3x8vDp06FD086VLl3Tw4EGFhYWVSV4AAHB9FHQAAGzQzp07deedd+rLL79Uz5499eKLL5b42PT0dB07dkzh4eFF244ePaq0tLRi2/bs2SPDMNSqVasyzQ4AAK6Oa9ABALAxx44d04ABA/T8889r9OjRatCggaKiorRz5061adPmhsfHx8fL0dGx2Lrol69Jr1evXrFtDRs2VLVq1crleQAAgOIYQQcAwIacP39effv21ZAhQzRx4kRJUmRkpPr166fnn3++RI8RHx+vkJAQubq6Ftv2v6Pnl7dxejsAABXHYhiGYXYIAABQPrp166bWrVvrgw8+KLPHtFgsmjNnjoYOHVpmjwkAABhBBwCg0vv4449VrVo17dmz55Ye55FHHuF0dwAAyhEj6AAAVGKnTp1Sdna2JKlu3bpydna+6cc6ffq00tPTJUm1atVS1apVyyQjAAD4DQUdAAAAAAArwCnuAAAAAABYAQo6AAAAAABWgIIOAAAAAIAVoKADAAAAAGAFKOgAAAAAAFgBCjoAAAAAAFaAgg4AAAAAgBWgoAMAAAAAYAUo6AAAAAAAWIH/ByFaiWdjLDkCAAAAAElFTkSuQmCC' width=1000.0/>\n",
       "            </div>\n",
       "        "
      ],
      "text/plain": [
       "Canvas(header_visible=False, toolbar=Toolbar(toolitems=[('Home', 'Reset original view', 'home', 'home'), ('Bac…"
      ]
     },
     "metadata": {},
     "output_type": "display_data"
    },
    {
     "data": {
      "application/vnd.jupyter.widget-view+json": {
       "model_id": "1a166ce0e3b343c2a95fb4d7f34ee78d",
       "version_major": 2,
       "version_minor": 0
      },
      "image/png": "[encoded data removed]",
      "text/html": [
       "\n",
       "            <div style=\"display: inline-block;\">\n",
       "                <div class=\"jupyter-widgets widget-label\" style=\"text-align: center;\">\n",
       "                    Figure\n",
       "                </div>\n",
       "                <img src='data:image/png;base64,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' width=1000.0/>\n",
       "            </div>\n",
       "        "
      ],
      "text/plain": [
       "Canvas(header_visible=False, toolbar=Toolbar(toolitems=[('Home', 'Reset original view', 'home', 'home'), ('Bac…"
      ]
     },
     "metadata": {},
     "output_type": "display_data"
    }
   ],
   "source": [
    "h_f = funcFit('h', a*x**2+b*x+c, h)"
   ]
  },
  {
   "cell_type": "markdown",
   "metadata": {},
   "source": [
    "# Gráficos"
   ]
  },
  {
   "cell_type": "markdown",
   "metadata": {},
   "source": [
    "Si la función no es de tipo `objects.funcFit`, es necesario indicar cuál es la variable independiente de la función y luego usar el método `plot`. \\\n",
    "Los argumentos de `plot` son:\n",
    "* `ran`: Una tupla que indica el intervalo del gráfico\n",
    "* `pts`: Entero que indique la cantidad de puntos a calcular\n",
    "* `ref`: Identificacion para la figura que retorna, por defecto es la ID del `objects.func`\n",
    "* Parámetros adicionales de personalización"
   ]
  },
  {
   "cell_type": "code",
   "execution_count": 30,
   "metadata": {},
   "outputs": [
    {
     "data": {
      "application/vnd.jupyter.widget-view+json": {
       "model_id": "7d03eed8d99747d7af832bee8dc5cf65",
       "version_major": 2,
       "version_minor": 0
      },
      "image/png": "[encoded data removed]",
      "text/html": [
       "\n",
       "            <div style=\"display: inline-block;\">\n",
       "                <div class=\"jupyter-widgets widget-label\" style=\"text-align: center;\">\n",
       "                    Figure\n",
       "                </div>\n",
       "                <img src='data:image/png;base64,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' width=1000.0/>\n",
       "            </div>\n",
       "        "
      ],
      "text/plain": [
       "Canvas(header_visible=False, toolbar=Toolbar(toolitems=[('Home', 'Reset original view', 'home', 'home'), ('Bac…"
      ]
     },
     "metadata": {},
     "output_type": "display_data"
    }
   ],
   "source": [
    "g.x=a\n",
    "fig = g.plot((1,5))"
   ]
  },
  {
   "cell_type": "markdown",
   "metadata": {},
   "source": [
    "# Pasco"
   ]
  },
  {
   "cell_type": "markdown",
   "metadata": {},
   "source": [
    "Se pueden cargar archivos `.csv` exportados de PASCO Capstone y almacenarse en una variable de tipo `objects.pasco`."
   ]
  },
  {
   "cell_type": "code",
   "execution_count": 31,
   "metadata": {},
   "outputs": [
    {
     "data": {
      "text/html": [
       "<div>\n",
       "<style scoped>\n",
       "    .dataframe tbody tr th:only-of-type {\n",
       "        vertical-align: middle;\n",
       "    }\n",
       "\n",
       "    .dataframe tbody tr th {\n",
       "        vertical-align: top;\n",
       "    }\n",
       "\n",
       "    .dataframe thead th {\n",
       "        text-align: right;\n",
       "    }\n",
       "</style>\n",
       "<table border=\"1\" class=\"dataframe\">\n",
       "  <thead>\n",
       "    <tr style=\"text-align: right;\">\n",
       "      <th></th>\n",
       "      <th>Intensidad de campo magnético (G) Serie Nº 3</th>\n",
       "      <th>Intensidad de campo magnético (G) Serie Nº 4</th>\n",
       "      <th>Intensidad de campo magnético (G) Serie Nº 5</th>\n",
       "    </tr>\n",
       "  </thead>\n",
       "  <tbody>\n",
       "    <tr>\n",
       "      <th>0</th>\n",
       "      <td>-3.587876</td>\n",
       "      <td>-3.774260</td>\n",
       "      <td>-3.759922</td>\n",
       "    </tr>\n",
       "    <tr>\n",
       "      <th>1</th>\n",
       "      <td>-3.734832</td>\n",
       "      <td>-3.774260</td>\n",
       "      <td>-3.648809</td>\n",
       "    </tr>\n",
       "    <tr>\n",
       "      <th>2</th>\n",
       "      <td>-3.501853</td>\n",
       "      <td>-3.774260</td>\n",
       "      <td>-3.695405</td>\n",
       "    </tr>\n",
       "    <tr>\n",
       "      <th>3</th>\n",
       "      <td>-3.555618</td>\n",
       "      <td>-3.770675</td>\n",
       "      <td>-3.756338</td>\n",
       "    </tr>\n",
       "    <tr>\n",
       "      <th>4</th>\n",
       "      <td>-3.702574</td>\n",
       "      <td>-3.770675</td>\n",
       "      <td>-3.702574</td>\n",
       "    </tr>\n",
       "    <tr>\n",
       "      <th>...</th>\n",
       "      <td>...</td>\n",
       "      <td>...</td>\n",
       "      <td>...</td>\n",
       "    </tr>\n",
       "    <tr>\n",
       "      <th>721</th>\n",
       "      <td>-3.774260</td>\n",
       "      <td>NaN</td>\n",
       "      <td>NaN</td>\n",
       "    </tr>\n",
       "    <tr>\n",
       "      <th>722</th>\n",
       "      <td>-3.774260</td>\n",
       "      <td>NaN</td>\n",
       "      <td>NaN</td>\n",
       "    </tr>\n",
       "    <tr>\n",
       "      <th>723</th>\n",
       "      <td>-3.774260</td>\n",
       "      <td>NaN</td>\n",
       "      <td>NaN</td>\n",
       "    </tr>\n",
       "    <tr>\n",
       "      <th>724</th>\n",
       "      <td>-3.774260</td>\n",
       "      <td>NaN</td>\n",
       "      <td>NaN</td>\n",
       "    </tr>\n",
       "    <tr>\n",
       "      <th>725</th>\n",
       "      <td>-3.774260</td>\n",
       "      <td>NaN</td>\n",
       "      <td>NaN</td>\n",
       "    </tr>\n",
       "  </tbody>\n",
       "</table>\n",
       "<p>726 rows × 3 columns</p>\n",
       "</div>"
      ],
      "text/plain": [
       "     Intensidad de campo magnético (G) Serie Nº 3  \\\n",
       "0                                       -3.587876   \n",
       "1                                       -3.734832   \n",
       "2                                       -3.501853   \n",
       "3                                       -3.555618   \n",
       "4                                       -3.702574   \n",
       "..                                            ...   \n",
       "721                                     -3.774260   \n",
       "722                                     -3.774260   \n",
       "723                                     -3.774260   \n",
       "724                                     -3.774260   \n",
       "725                                     -3.774260   \n",
       "\n",
       "     Intensidad de campo magnético (G) Serie Nº 4  \\\n",
       "0                                       -3.774260   \n",
       "1                                       -3.774260   \n",
       "2                                       -3.774260   \n",
       "3                                       -3.770675   \n",
       "4                                       -3.770675   \n",
       "..                                            ...   \n",
       "721                                           NaN   \n",
       "722                                           NaN   \n",
       "723                                           NaN   \n",
       "724                                           NaN   \n",
       "725                                           NaN   \n",
       "\n",
       "     Intensidad de campo magnético (G) Serie Nº 5  \n",
       "0                                       -3.759922  \n",
       "1                                       -3.648809  \n",
       "2                                       -3.695405  \n",
       "3                                       -3.756338  \n",
       "4                                       -3.702574  \n",
       "..                                            ...  \n",
       "721                                           NaN  \n",
       "722                                           NaN  \n",
       "723                                           NaN  \n",
       "724                                           NaN  \n",
       "725                                           NaN  \n",
       "\n",
       "[726 rows x 3 columns]"
      ]
     },
     "metadata": {},
     "output_type": "display_data"
    }
   ],
   "source": [
    "psc = pasco('pscdata.csv')"
   ]
  },
  {
   "cell_type": "markdown",
   "metadata": {},
   "source": [
    "Si se quiere acceder a una serie (columna), se puede llamar la variable con una tupla indicando el sensor (si es que hay mas de uno) comenzando por `0` y el número de serie que indica la tabla. Otra forma es indicando el íncice absoluto de la columna comenzando por `0`.\\\n",
    "Este método tiene los siguientes argumentos:\n",
    "* `ran`: tupla o lista indicando comienzo y fin del rango de filas deseado (EN UNIDADES DE TIEMPO, NO EN CANTIDAD DE FILAS)\n",
    "* `plot`: Booleano para graficar el conjunto de puntos indicado"
   ]
  },
  {
   "cell_type": "code",
   "execution_count": 32,
   "metadata": {},
   "outputs": [
    {
     "name": "stderr",
     "output_type": "stream",
     "text": [
      "No artists with labels found to put in legend.  Note that artists whose label start with an underscore are ignored when legend() is called with no argument.\n"
     ]
    },
    {
     "data": {
      "application/vnd.jupyter.widget-view+json": {
       "model_id": "ae95ef785bf94902948085731b888ba5",
       "version_major": 2,
       "version_minor": 0
      },
      "image/png": "[encoded data removed]",
      "text/html": [
       "\n",
       "            <div style=\"display: inline-block;\">\n",
       "                <div class=\"jupyter-widgets widget-label\" style=\"text-align: center;\">\n",
       "                    Figure\n",
       "                </div>\n",
       "                <img src='data:image/png;base64,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' width=1000.0/>\n",
       "            </div>\n",
       "        "
      ],
      "text/plain": [
       "Canvas(header_visible=False, toolbar=Toolbar(toolitems=[('Home', 'Reset original view', 'home', 'home'), ('Bac…"
      ]
     },
     "metadata": {},
     "output_type": "display_data"
    }
   ],
   "source": [
    "B_1 = psc((0,4), ran=(1,10), plot=True)"
   ]
  },
  {
   "cell_type": "code",
   "execution_count": 33,
   "metadata": {},
   "outputs": [],
   "source": [
    "B_2 = psc(2, ran=(1,10))"
   ]
  },
  {
   "cell_type": "markdown",
   "metadata": {},
   "source": [
    "Ahora se pueden hacer todos los calculos de esta lista de valores utilizando `objects.var`."
   ]
  },
  {
   "cell_type": "code",
   "execution_count": 34,
   "metadata": {},
   "outputs": [
    {
     "data": {
      "text/latex": [
       "$\\displaystyle B_{1} = (-3.7727 \\pm 0.0002) \\, G$"
      ],
      "text/plain": [
       "<IPython.core.display.Math object>"
      ]
     },
     "metadata": {},
     "output_type": "display_data"
    },
    {
     "data": {
      "text/latex": [
       "$\\displaystyle \\text{Confidence interval of 95\\,\\%\\,:}\\quad B_{1 \\, 95\\%}=(-3.7727 \\pm 0.0004) \\, G$"
      ],
      "text/plain": [
       "<IPython.core.display.Math object>"
      ]
     },
     "metadata": {},
     "output_type": "display_data"
    },
    {
     "data": {
      "text/latex": [
       "$\\displaystyle B_{2} = (-3.62 \\pm 0.01) \\, G$"
      ],
      "text/plain": [
       "<IPython.core.display.Math object>"
      ]
     },
     "metadata": {},
     "output_type": "display_data"
    },
    {
     "data": {
      "text/latex": [
       "$\\displaystyle \\text{Confidence interval of 95\\,\\%\\,:}\\quad B_{2 \\, 95\\%}=(-3.62 \\pm 0.02) \\, G$"
      ],
      "text/plain": [
       "<IPython.core.display.Math object>"
      ]
     },
     "metadata": {},
     "output_type": "display_data"
    }
   ],
   "source": [
    "B_1, B_2 = var('B_1', B_1, 'G'), var('B_2', B_2, 'G')"
   ]
  },
  {
   "cell_type": "markdown",
   "metadata": {},
   "source": [
    "# Pruebas de hipótesis con t de Student"
   ]
  },
  {
   "cell_type": "markdown",
   "metadata": {},
   "source": [
    "Las pruebas de hipótesis se realizan con la función `stats.t_test`. El procedimiento es automático para pruebas entre una variable de tipo `objects.var` y un parámetro de tipo `objects.param` o para dos variables.\\\n",
    "En este último caso analiza si las varianzas son homogéneas a través de la prueba con distribución F."
   ]
  },
  {
   "cell_type": "code",
   "execution_count": 37,
   "metadata": {},
   "outputs": [
    {
     "data": {
      "text/latex": [
       "$\\displaystyle \\text{Se analiza si las varianzas son homogéneas con un nivel de significancia }\\, \\alpha = 0.1$"
      ],
      "text/plain": [
       "<IPython.core.display.Math object>"
      ]
     },
     "metadata": {},
     "output_type": "display_data"
    },
    {
     "data": {
      "text/latex": [
       "$\\displaystyle \\text{Hipótesis nula }\\, H_0: s_{B1} = s_{B2} \\quad \\text{Hipótesis alternativa }\\, H_a: s_{B1} \\neq s_{B2}$"
      ],
      "text/plain": [
       "<IPython.core.display.Math object>"
      ]
     },
     "metadata": {},
     "output_type": "display_data"
    },
    {
     "data": {
      "text/latex": [
       "$\\displaystyle f = \\frac{s_{B1}^{2}}{s_{B2}^{2}} = 0.0004645627787879033$"
      ],
      "text/plain": [
       "<IPython.core.display.Math object>"
      ]
     },
     "metadata": {},
     "output_type": "display_data"
    },
    {
     "data": {
      "text/latex": [
       "$\\displaystyle \\text{Región de rechazo: }\\, RR = \\{f \\geq F_{0.05,179,179} \\, o \\, f \\leq F_{0.95,179,179} \\}$"
      ],
      "text/plain": [
       "<IPython.core.display.Math object>"
      ]
     },
     "metadata": {},
     "output_type": "display_data"
    },
    {
     "data": {
      "text/latex": [
       "$\\displaystyle RR = \\{f \\geq 1.280 \\, o \\, f \\leq 0.782 \\}$"
      ],
      "text/plain": [
       "<IPython.core.display.Math object>"
      ]
     },
     "metadata": {},
     "output_type": "display_data"
    },
    {
     "data": {
      "text/latex": [
       "$\\displaystyle f \\in RR \\quad \\text{Se rechaza la Hipótesis nula, } \\, s_{B1} \\neq s_{B2} \\, \\text{ con un nivel de significancia }\\, \\alpha = 0.1$"
      ],
      "text/plain": [
       "<IPython.core.display.Math object>"
      ]
     },
     "metadata": {},
     "output_type": "display_data"
    },
    {
     "data": {
      "text/latex": [
       "$\\displaystyle \\text{Se procede a la comparación para varianzas no homogéneas con un nivel de significancia }\\, \\alpha = 0.05$"
      ],
      "text/plain": [
       "<IPython.core.display.Math object>"
      ]
     },
     "metadata": {},
     "output_type": "display_data"
    },
    {
     "data": {
      "text/latex": [
       "$\\displaystyle t = \\frac{\\overline{B_{1}} - \\overline{B_{2}}}{\\sqrt{\\frac{s_{B2}^{2}}{n_{B2}} + \\frac{s_{B1}^{2}}{n_{B1}}}}=-14.829738370715608$"
      ],
      "text/plain": [
       "<IPython.core.display.Math object>"
      ]
     },
     "metadata": {},
     "output_type": "display_data"
    },
    {
     "data": {
      "text/latex": [
       "$\\displaystyle \\nu=\\frac{\\left(\\frac{s_{B2}^{2}}{n_{B2}} + \\frac{s_{B1}^{2}}{n_{B1}}\\right)^{2}}{\\frac{s_{B2}^{4}}{\\nu_{B2} n_{B2}^{2}} + \\frac{s_{B1}^{4}}{\\nu_{B1} n_{B1}^{2}}}= 179.16631343891257\\approx 179.0$"
      ],
      "text/plain": [
       "<IPython.core.display.Math object>"
      ]
     },
     "metadata": {},
     "output_type": "display_data"
    },
    {
     "data": {
      "text/latex": [
       "$\\displaystyle \\text{Región de rechazo: }\\, RR = \\{\\lvert t \\rvert \\geq t_{0.025,179.0}\\}$"
      ],
      "text/plain": [
       "<IPython.core.display.Math object>"
      ]
     },
     "metadata": {},
     "output_type": "display_data"
    },
    {
     "data": {
      "text/latex": [
       "$\\displaystyle RR = \\{\\lvert t \\rvert \\geq 1.973\\}$"
      ],
      "text/plain": [
       "<IPython.core.display.Math object>"
      ]
     },
     "metadata": {},
     "output_type": "display_data"
    },
    {
     "data": {
      "text/latex": [
       "$\\displaystyle t \\in RR \\quad \\text{Se rechaza la Hipótesis nula, } \\, B_{1} \\neq B_{2} \\, \\text{ con un nivel de significancia }\\, \\alpha = 0.05$"
      ],
      "text/plain": [
       "<IPython.core.display.Math object>"
      ]
     },
     "metadata": {},
     "output_type": "display_data"
    }
   ],
   "source": [
    "stats.t_test(B_1, B_2)"
   ]
  },
  {
   "cell_type": "code",
   "execution_count": null,
   "metadata": {},
   "outputs": [],
   "source": []
  }
 ],
 "metadata": {
  "kernelspec": {
   "display_name": "Python 3",
   "language": "python",
   "name": "python3"
  },
  "language_info": {
   "codemirror_mode": {
    "name": "ipython",
    "version": 3
   },
   "file_extension": ".py",
   "mimetype": "text/x-python",
   "name": "python",
   "nbconvert_exporter": "python",
   "pygments_lexer": "ipython3",
   "version": "3.12.2"
  }
 },
 "nbformat": 4,
 "nbformat_minor": 2
}
