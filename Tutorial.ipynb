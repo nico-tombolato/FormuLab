{
 "cells": [
  {
   "cell_type": "markdown",
   "metadata": {},
   "source": [
    "# Variables"
   ]
  },
  {
   "cell_type": "code",
   "execution_count": 18,
   "metadata": {},
   "outputs": [],
   "source": [
    "from formulab.objects import *"
   ]
  },
  {
   "cell_type": "markdown",
   "metadata": {},
   "source": [
    "Los objetos de tipo `objects.var` son variables que almacenan todos los atributos que tendría una variable estadística.\\\n",
    "Para inicializar, los argumentos necesarios son el nombre en formato string (puede contener subíndices y simbolos de latex, pero sin el backlash `\\`) y el conjunto de mediciones realizados en una lista o un `dict`.\\\n",
    "Tambien se puede introducir un único valor, pero en este caso no podra calcular nada."
   ]
  },
  {
   "cell_type": "code",
   "execution_count": 19,
   "metadata": {},
   "outputs": [
    {
     "data": {
      "text/latex": [
       "$\\displaystyle x_{m} = (1.10 \\pm 0.04) \\, m$"
      ],
      "text/plain": [
       "<IPython.core.display.Math object>"
      ]
     },
     "metadata": {},
     "output_type": "display_data"
    },
    {
     "data": {
      "text/latex": [
       "$\\displaystyle \\text{Confidence interval of 95\\,\\%\\,:}\\quad x_{m \\, 95\\%}=(1.10 \\pm 0.13) \\, m$"
      ],
      "text/plain": [
       "<IPython.core.display.Math object>"
      ]
     },
     "metadata": {},
     "output_type": "display_data"
    },
    {
     "data": {
      "text/latex": [
       "$\\displaystyle \\rho = (10.0 \\pm 0.4) \\, \\Omega m$"
      ],
      "text/plain": [
       "<IPython.core.display.Math object>"
      ]
     },
     "metadata": {},
     "output_type": "display_data"
    },
    {
     "data": {
      "text/latex": [
       "$\\displaystyle \\text{Confidence interval of 95\\,\\%\\,:}\\quad \\rho_{ \\, 95\\%}=(10.0 \\pm 1.2) \\, \\Omega m$"
      ],
      "text/plain": [
       "<IPython.core.display.Math object>"
      ]
     },
     "metadata": {},
     "output_type": "display_data"
    }
   ],
   "source": [
    "x = var('x_m', [1.1, 1.2, 1.1, 1.0], unit='m')\n",
    "rho = var('rho', {'val': 10, 'sd': 1, 'n': 5}, unit='Omega m')"
   ]
  },
  {
   "cell_type": "markdown",
   "metadata": {},
   "source": [
    "Las posibles entradas del `dict` son: \n",
    "* `values`: Lista de valores (como los de `x`)\n",
    "* `val`: Valor medio\n",
    "* `sd`: Desviación estándar\n",
    "* `sdm`: Desviación estándar de la media\n",
    "* `n`: Cantidad de mediciones\n",
    "* `nu`: Grados de libertad\n",
    "* `u`: Incertidumbre\n",
    "* `valr`: Valor medio redondeado\n",
    "* `u_st`: Intervalo de confianza con t de Student\n",
    "\n",
    "Con los datos ingresados, el programa calculará toda la información posible. Si no se especifica, supondrá `nu = n-1`, si no se dió la desviación estándar `sd = sdm` y si se envía un único valor `n = 1`."
   ]
  },
  {
   "cell_type": "markdown",
   "metadata": {},
   "source": [
    "Hay argumentos adicionnales para la función:\n",
    "* `alpha`: El nivel de significancia para el intervalo de confianza con t de Student, el `default` es `0.05` y puede ser modificado permanentemente en el archivo `formulab/config.py`. `0` Evita que se calcule\n",
    "* `vbs`: El nivel de verbosidad, con `0` no mostrará nada al ejecutarse, `1` solo el valor final, `2` los pasos intermedios"
   ]
  },
  {
   "cell_type": "code",
   "execution_count": 20,
   "metadata": {},
   "outputs": [
    {
     "data": {
      "text/latex": [
       "$\\displaystyle \\overline{y_{2}} = 21.166666666666668 \\, \\mathtt{\\text{}}$"
      ],
      "text/plain": [
       "<IPython.core.display.Math object>"
      ]
     },
     "metadata": {},
     "output_type": "display_data"
    },
    {
     "data": {
      "text/latex": [
       "$\\displaystyle s_{y2} = 1.4719601443879746 \\quad s_{\\overline{y2}} = 0.6009252125773317 \\quad \\nu_{y2} = 5$"
      ],
      "text/plain": [
       "<IPython.core.display.Math object>"
      ]
     },
     "metadata": {},
     "output_type": "display_data"
    },
    {
     "data": {
      "text/latex": [
       "$\\displaystyle y_{2} = (21.2 \\pm 0.6) \\, \\mathtt{\\text{}}$"
      ],
      "text/plain": [
       "<IPython.core.display.Math object>"
      ]
     },
     "metadata": {},
     "output_type": "display_data"
    },
    {
     "data": {
      "text/latex": [
       "$\\displaystyle \\text{Confidence interval of 98\\,\\%\\,:}\\quad y_{2 \\, 98\\%}=(21.2 \\pm 2.0) \\, \\mathtt{\\text{}}$"
      ],
      "text/plain": [
       "<IPython.core.display.Math object>"
      ]
     },
     "metadata": {},
     "output_type": "display_data"
    }
   ],
   "source": [
    "y = var('y_2', [20,23,20,21,23,20], alpha=0.02, vbs=2)\n",
    "z = var('z', 1, vbs=0) #No se muestra porque vbs=0"
   ]
  },
  {
   "cell_type": "markdown",
   "metadata": {},
   "source": [
    "Acceder a los atributos de cada variable es simple, solo hay que llamarlos por su nombre, iguales a las entradas de `dict`."
   ]
  },
  {
   "cell_type": "code",
   "execution_count": 21,
   "metadata": {},
   "outputs": [
    {
     "data": {
      "text/plain": [
       "4"
      ]
     },
     "execution_count": 21,
     "metadata": {},
     "output_type": "execute_result"
    }
   ],
   "source": [
    "x.n"
   ]
  },
  {
   "cell_type": "code",
   "execution_count": 22,
   "metadata": {},
   "outputs": [
    {
     "data": {
      "text/plain": [
       "4"
      ]
     },
     "execution_count": 22,
     "metadata": {},
     "output_type": "execute_result"
    }
   ],
   "source": [
    "rho.nu"
   ]
  },
  {
   "cell_type": "code",
   "execution_count": 23,
   "metadata": {},
   "outputs": [
    {
     "data": {
      "text/plain": [
       "0.6009252125773317"
      ]
     },
     "execution_count": 23,
     "metadata": {},
     "output_type": "execute_result"
    }
   ],
   "source": [
    "y.sdm"
   ]
  },
  {
   "cell_type": "markdown",
   "metadata": {},
   "source": [
    "Y si se necesita el símbolo de la variable o de alguno de los atributos, hay que agregar `sym` previo al atributo."
   ]
  },
  {
   "cell_type": "code",
   "execution_count": 24,
   "metadata": {},
   "outputs": [
    {
     "data": {
      "text/latex": [
       "$\\displaystyle x_{m}$"
      ],
      "text/plain": [
       "x_{m}"
      ]
     },
     "execution_count": 24,
     "metadata": {},
     "output_type": "execute_result"
    }
   ],
   "source": [
    "x"
   ]
  },
  {
   "cell_type": "code",
   "execution_count": 25,
   "metadata": {},
   "outputs": [
    {
     "data": {
      "text/latex": [
       "$\\displaystyle \\nu_{\\rho}$"
      ],
      "text/plain": [
       "\\nu_{\\rho}"
      ]
     },
     "execution_count": 25,
     "metadata": {},
     "output_type": "execute_result"
    }
   ],
   "source": [
    "rho.sym.nu"
   ]
  },
  {
   "cell_type": "code",
   "execution_count": 26,
   "metadata": {},
   "outputs": [
    {
     "data": {
      "text/latex": [
       "$\\displaystyle s_{\\overline{y2}}$"
      ],
      "text/plain": [
       "s_{\\overline{y2}}"
      ]
     },
     "execution_count": 26,
     "metadata": {},
     "output_type": "execute_result"
    }
   ],
   "source": [
    "y.sym.sdm"
   ]
  },
  {
   "cell_type": "markdown",
   "metadata": {},
   "source": [
    "También se puede volver a calcular una variable con el método `calc`, e imprimirla con el método `display`."
   ]
  },
  {
   "cell_type": "code",
   "execution_count": 27,
   "metadata": {},
   "outputs": [
    {
     "data": {
      "text/latex": [
       "$\\displaystyle z$"
      ],
      "text/plain": [
       "z"
      ]
     },
     "execution_count": 27,
     "metadata": {},
     "output_type": "execute_result"
    }
   ],
   "source": [
    "z.calc([5,5.1,4.9,5.5], vbs=0)"
   ]
  },
  {
   "cell_type": "code",
   "execution_count": 28,
   "metadata": {},
   "outputs": [
    {
     "data": {
      "text/latex": [
       "$\\displaystyle \\overline{z} = 5.125 \\, \\mathtt{\\text{}}$"
      ],
      "text/plain": [
       "<IPython.core.display.Math object>"
      ]
     },
     "metadata": {},
     "output_type": "display_data"
    },
    {
     "data": {
      "text/latex": [
       "$\\displaystyle s_{z} = 0.2629955639676582 \\quad s_{\\overline{z}} = 0.1314977819838291 \\quad \\nu_{z} = 3$"
      ],
      "text/plain": [
       "<IPython.core.display.Math object>"
      ]
     },
     "metadata": {},
     "output_type": "display_data"
    },
    {
     "data": {
      "text/latex": [
       "$\\displaystyle z = (5.1 \\pm 0.1) \\, \\mathtt{\\text{}}$"
      ],
      "text/plain": [
       "<IPython.core.display.Math object>"
      ]
     },
     "metadata": {},
     "output_type": "display_data"
    },
    {
     "data": {
      "text/latex": [
       "$\\displaystyle \\text{Confidence interval of 95\\,\\%\\,:}\\quad z_{ \\, 95\\%}=(5.1 \\pm 0.4) \\, \\mathtt{\\text{}}$"
      ],
      "text/plain": [
       "<IPython.core.display.Math object>"
      ]
     },
     "metadata": {},
     "output_type": "display_data"
    }
   ],
   "source": [
    "z.display(vbs=2)"
   ]
  },
  {
   "cell_type": "markdown",
   "metadata": {},
   "source": [
    "# Funciones"
   ]
  },
  {
   "cell_type": "markdown",
   "metadata": {},
   "source": [
    "Una funcion de tipo `obj.func` es inicializada de forma similar a una variable, indicando el nombre y la expresión es suficiente. Será automáticamente evaluada por defecto"
   ]
  },
  {
   "cell_type": "code",
   "execution_count": 29,
   "metadata": {},
   "outputs": [
    {
     "data": {
      "text/latex": [
       "$\\displaystyle f = \\frac{\\rho}{x_{m}}$"
      ],
      "text/plain": [
       "<IPython.core.display.Math object>"
      ]
     },
     "metadata": {},
     "output_type": "display_data"
    },
    {
     "data": {
      "text/latex": [
       "$\\displaystyle f({\\rho: 10, x_{m}: 1.1}) = 9.09090909090909 \\, \\Omega$"
      ],
      "text/plain": [
       "<IPython.core.display.Math object>"
      ]
     },
     "metadata": {},
     "output_type": "display_data"
    },
    {
     "data": {
      "text/latex": [
       "$\\displaystyle \\frac{\\partial f}{\\partial \\rho} = \\frac{1}{x_{m}} = 0.909090909090909 \\, \\frac{1}{m}$"
      ],
      "text/plain": [
       "<IPython.core.display.Math object>"
      ]
     },
     "metadata": {},
     "output_type": "display_data"
    },
    {
     "data": {
      "text/latex": [
       "$\\displaystyle \\frac{\\partial f}{\\partial x_{m}} = - \\frac{\\rho}{x_{m}^{2}} = -8.26446280991735 \\, \\frac{\\Omega}{m}$"
      ],
      "text/plain": [
       "<IPython.core.display.Math object>"
      ]
     },
     "metadata": {},
     "output_type": "display_data"
    },
    {
     "data": {
      "text/latex": [
       "$\\displaystyle s_{\\overline{f}} = \\sqrt{\\frac{\\partial f}{\\partial \\rho}^{2} s_{\\overline{\\rho}}^{2} + \\frac{\\partial f}{\\partial x_{m}}^{2} s_{\\overline{xm}}^{2}}$"
      ],
      "text/plain": [
       "<IPython.core.display.Math object>"
      ]
     },
     "metadata": {},
     "output_type": "display_data"
    },
    {
     "data": {
      "text/latex": [
       "$\\displaystyle s_{\\overline{f}} = 0.528322659075423 \\, \\Omega$"
      ],
      "text/plain": [
       "<IPython.core.display.Math object>"
      ]
     },
     "metadata": {},
     "output_type": "display_data"
    },
    {
     "data": {
      "text/latex": [
       "$\\displaystyle f = (9.1 \\pm 0.5) \\, \\Omega$"
      ],
      "text/plain": [
       "<IPython.core.display.Math object>"
      ]
     },
     "metadata": {},
     "output_type": "display_data"
    },
    {
     "data": {
      "text/latex": [
       "$\\displaystyle \\nu_{f} = \\frac{s_{\\overline{f}}^{4}}{\\frac{\\frac{\\partial f}{\\partial \\rho}^{4} s_{\\overline{\\rho}}^{4}}{\\nu_{\\rho}} + \\frac{\\frac{\\partial f}{\\partial x_{m}}^{4} s_{\\overline{xm}}^{4}}{\\nu_{xm}}} = 6.98772522225855 \\approx 6$"
      ],
      "text/plain": [
       "<IPython.core.display.Math object>"
      ]
     },
     "metadata": {},
     "output_type": "display_data"
    },
    {
     "data": {
      "text/latex": [
       "$\\displaystyle \\text{Confidence interval of 95\\,\\%\\,:}\\quad f_{ \\, 95\\%}=(9.1 \\pm 1.3) \\, \\Omega$"
      ],
      "text/plain": [
       "<IPython.core.display.Math object>"
      ]
     },
     "metadata": {},
     "output_type": "display_data"
    }
   ],
   "source": [
    "f = func('f', rho/x, 'Omega', vbs=2)"
   ]
  },
  {
   "cell_type": "markdown",
   "metadata": {},
   "source": [
    "Sus argumentos adicionales son:\n",
    "* `alpha`: Ya mencionado\n",
    "* `calc_ev`: Evaluar la expresión, `True` o `False`\n",
    "* `calc_u`: Calcular la incertidumbre (mediante propagación con derivadas parciales)\n",
    "* `vbs`: Ya mencionado"
   ]
  },
  {
   "cell_type": "markdown",
   "metadata": {},
   "source": [
    "Para evaluarla con otros valores se llama a la función directamente con un `dict` indicando los nuevos valores, utilizara los iniciales para aquellos que no sean específicados, retorna `dict` o `list` de `dict` (esto último si fue evaluado en una lista de valores)."
   ]
  },
  {
   "cell_type": "code",
   "execution_count": 30,
   "metadata": {},
   "outputs": [
    {
     "data": {
      "text/latex": [
       "$\\displaystyle f = (3.3 \\pm 0.2) \\, \\Omega$"
      ],
      "text/plain": [
       "<IPython.core.display.Math object>"
      ]
     },
     "metadata": {},
     "output_type": "display_data"
    },
    {
     "data": {
      "text/latex": [
       "$\\displaystyle \\text{Confidence interval of 95\\,\\%\\,:}\\quad f_{ \\, 95\\%}=(3.3 \\pm 0.4) \\, \\Omega$"
      ],
      "text/plain": [
       "<IPython.core.display.Math object>"
      ]
     },
     "metadata": {},
     "output_type": "display_data"
    }
   ],
   "source": [
    "f_1 = f({x: 3})"
   ]
  },
  {
   "cell_type": "code",
   "execution_count": 31,
   "metadata": {},
   "outputs": [
    {
     "data": {
      "text/latex": [
       "$\\displaystyle \\text{Evaluating in}\\quad {\\rho: 1}$"
      ],
      "text/plain": [
       "<IPython.core.display.Math object>"
      ]
     },
     "metadata": {},
     "output_type": "display_data"
    },
    {
     "data": {
      "text/latex": [
       "$\\displaystyle f = \\frac{\\rho}{x_{m}}$"
      ],
      "text/plain": [
       "<IPython.core.display.Math object>"
      ]
     },
     "metadata": {},
     "output_type": "display_data"
    },
    {
     "data": {
      "text/latex": [
       "$\\displaystyle f({\\rho: 1, x_{m}: 1.1}) = 0.909090909090909 \\, \\Omega$"
      ],
      "text/plain": [
       "<IPython.core.display.Math object>"
      ]
     },
     "metadata": {},
     "output_type": "display_data"
    },
    {
     "data": {
      "text/latex": [
       "$\\displaystyle \\frac{\\partial f}{\\partial \\rho} = \\frac{1}{x_{m}} = 0.909090909090909 \\, \\frac{1}{m}$"
      ],
      "text/plain": [
       "<IPython.core.display.Math object>"
      ]
     },
     "metadata": {},
     "output_type": "display_data"
    },
    {
     "data": {
      "text/latex": [
       "$\\displaystyle \\frac{\\partial f}{\\partial x_{m}} = - \\frac{\\rho}{x_{m}^{2}} = -0.826446280991735 \\, \\frac{\\Omega}{m}$"
      ],
      "text/plain": [
       "<IPython.core.display.Math object>"
      ]
     },
     "metadata": {},
     "output_type": "display_data"
    },
    {
     "data": {
      "text/latex": [
       "$\\displaystyle s_{\\overline{f}} = \\sqrt{\\frac{\\partial f}{\\partial \\rho}^{2} s_{\\overline{\\rho}}^{2} + \\frac{\\partial f}{\\partial x_{m}}^{2} s_{\\overline{xm}}^{2}}$"
      ],
      "text/plain": [
       "<IPython.core.display.Math object>"
      ]
     },
     "metadata": {},
     "output_type": "display_data"
    },
    {
     "data": {
      "text/latex": [
       "$\\displaystyle s_{\\overline{f}} = 2.64488635102702 \\, \\Omega$"
      ],
      "text/plain": [
       "<IPython.core.display.Math object>"
      ]
     },
     "metadata": {},
     "output_type": "display_data"
    },
    {
     "data": {
      "text/latex": [
       "$\\displaystyle f = (1 \\pm 3) \\, \\Omega$"
      ],
      "text/plain": [
       "<IPython.core.display.Math object>"
      ]
     },
     "metadata": {},
     "output_type": "display_data"
    },
    {
     "data": {
      "text/latex": [
       "$\\displaystyle \\nu_{f} = \\frac{s_{\\overline{f}}^{4}}{\\frac{\\frac{\\partial f}{\\partial \\rho}^{4} s_{\\overline{\\rho}}^{4}}{\\nu_{\\rho}} + \\frac{\\frac{\\partial f}{\\partial x_{m}}^{4} s_{\\overline{xm}}^{4}}{\\nu_{xm}}} = 3.14557528896583 \\approx 3$"
      ],
      "text/plain": [
       "<IPython.core.display.Math object>"
      ]
     },
     "metadata": {},
     "output_type": "display_data"
    },
    {
     "data": {
      "text/latex": [
       "$\\displaystyle \\text{Confidence interval of 95\\,\\%\\,:}\\quad f_{ \\, 95\\%}=(1 \\pm 8) \\, \\Omega$"
      ],
      "text/plain": [
       "<IPython.core.display.Math object>"
      ]
     },
     "metadata": {},
     "output_type": "display_data"
    },
    {
     "data": {
      "text/latex": [
       "$\\displaystyle \\text{Evaluating in}\\quad {\\rho: 2}$"
      ],
      "text/plain": [
       "<IPython.core.display.Math object>"
      ]
     },
     "metadata": {},
     "output_type": "display_data"
    },
    {
     "data": {
      "text/latex": [
       "$\\displaystyle f = \\frac{\\rho}{x_{m}}$"
      ],
      "text/plain": [
       "<IPython.core.display.Math object>"
      ]
     },
     "metadata": {},
     "output_type": "display_data"
    },
    {
     "data": {
      "text/latex": [
       "$\\displaystyle f({\\rho: 2, x_{m}: 1.1}) = 1.81818181818182 \\, \\Omega$"
      ],
      "text/plain": [
       "<IPython.core.display.Math object>"
      ]
     },
     "metadata": {},
     "output_type": "display_data"
    },
    {
     "data": {
      "text/latex": [
       "$\\displaystyle \\frac{\\partial f}{\\partial \\rho} = \\frac{1}{x_{m}} = 0.909090909090909 \\, \\frac{1}{m}$"
      ],
      "text/plain": [
       "<IPython.core.display.Math object>"
      ]
     },
     "metadata": {},
     "output_type": "display_data"
    },
    {
     "data": {
      "text/latex": [
       "$\\displaystyle \\frac{\\partial f}{\\partial x_{m}} = - \\frac{\\rho}{x_{m}^{2}} = -1.65289256198347 \\, \\frac{\\Omega}{m}$"
      ],
      "text/plain": [
       "<IPython.core.display.Math object>"
      ]
     },
     "metadata": {},
     "output_type": "display_data"
    },
    {
     "data": {
      "text/latex": [
       "$\\displaystyle s_{\\overline{f}} = \\sqrt{\\frac{\\partial f}{\\partial \\rho}^{2} s_{\\overline{\\rho}}^{2} + \\frac{\\partial f}{\\partial x_{m}}^{2} s_{\\overline{xm}}^{2}}$"
      ],
      "text/plain": [
       "<IPython.core.display.Math object>"
      ]
     },
     "metadata": {},
     "output_type": "display_data"
    },
    {
     "data": {
      "text/latex": [
       "$\\displaystyle s_{\\overline{f}} = 5.24269276906450 \\, \\Omega$"
      ],
      "text/plain": [
       "<IPython.core.display.Math object>"
      ]
     },
     "metadata": {},
     "output_type": "display_data"
    },
    {
     "data": {
      "text/latex": [
       "$\\displaystyle f = (2 \\pm 5) \\, \\Omega$"
      ],
      "text/plain": [
       "<IPython.core.display.Math object>"
      ]
     },
     "metadata": {},
     "output_type": "display_data"
    },
    {
     "data": {
      "text/latex": [
       "$\\displaystyle \\nu_{f} = \\frac{s_{\\overline{f}}^{4}}{\\frac{\\frac{\\partial f}{\\partial \\rho}^{4} s_{\\overline{\\rho}}^{4}}{\\nu_{\\rho}} + \\frac{\\frac{\\partial f}{\\partial x_{m}}^{4} s_{\\overline{xm}}^{4}}{\\nu_{xm}}} = 3.03632645464571 \\approx 3$"
      ],
      "text/plain": [
       "<IPython.core.display.Math object>"
      ]
     },
     "metadata": {},
     "output_type": "display_data"
    },
    {
     "data": {
      "text/latex": [
       "$\\displaystyle \\text{Confidence interval of 95\\,\\%\\,:}\\quad f_{ \\, 95\\%}=(2 \\pm 17) \\, \\Omega$"
      ],
      "text/plain": [
       "<IPython.core.display.Math object>"
      ]
     },
     "metadata": {},
     "output_type": "display_data"
    },
    {
     "data": {
      "text/latex": [
       "$\\displaystyle \\text{Evaluating in}\\quad {\\rho: 3}$"
      ],
      "text/plain": [
       "<IPython.core.display.Math object>"
      ]
     },
     "metadata": {},
     "output_type": "display_data"
    },
    {
     "data": {
      "text/latex": [
       "$\\displaystyle f = \\frac{\\rho}{x_{m}}$"
      ],
      "text/plain": [
       "<IPython.core.display.Math object>"
      ]
     },
     "metadata": {},
     "output_type": "display_data"
    },
    {
     "data": {
      "text/latex": [
       "$\\displaystyle f({\\rho: 3, x_{m}: 1.1}) = 2.72727272727273 \\, \\Omega$"
      ],
      "text/plain": [
       "<IPython.core.display.Math object>"
      ]
     },
     "metadata": {},
     "output_type": "display_data"
    },
    {
     "data": {
      "text/latex": [
       "$\\displaystyle \\frac{\\partial f}{\\partial \\rho} = \\frac{1}{x_{m}} = 0.909090909090909 \\, \\frac{1}{m}$"
      ],
      "text/plain": [
       "<IPython.core.display.Math object>"
      ]
     },
     "metadata": {},
     "output_type": "display_data"
    },
    {
     "data": {
      "text/latex": [
       "$\\displaystyle \\frac{\\partial f}{\\partial x_{m}} = - \\frac{\\rho}{x_{m}^{2}} = -2.47933884297521 \\, \\frac{\\Omega}{m}$"
      ],
      "text/plain": [
       "<IPython.core.display.Math object>"
      ]
     },
     "metadata": {},
     "output_type": "display_data"
    },
    {
     "data": {
      "text/latex": [
       "$\\displaystyle s_{\\overline{f}} = \\sqrt{\\frac{\\partial f}{\\partial \\rho}^{2} s_{\\overline{\\rho}}^{2} + \\frac{\\partial f}{\\partial x_{m}}^{2} s_{\\overline{xm}}^{2}}$"
      ],
      "text/plain": [
       "<IPython.core.display.Math object>"
      ]
     },
     "metadata": {},
     "output_type": "display_data"
    },
    {
     "data": {
      "text/latex": [
       "$\\displaystyle s_{\\overline{f}} = 7.85089168432826 \\, \\Omega$"
      ],
      "text/plain": [
       "<IPython.core.display.Math object>"
      ]
     },
     "metadata": {},
     "output_type": "display_data"
    },
    {
     "data": {
      "text/latex": [
       "$\\displaystyle f = (3 \\pm 8) \\, \\Omega$"
      ],
      "text/plain": [
       "<IPython.core.display.Math object>"
      ]
     },
     "metadata": {},
     "output_type": "display_data"
    },
    {
     "data": {
      "text/latex": [
       "$\\displaystyle \\nu_{f} = \\frac{s_{\\overline{f}}^{4}}{\\frac{\\frac{\\partial f}{\\partial \\rho}^{4} s_{\\overline{\\rho}}^{4}}{\\nu_{\\rho}} + \\frac{\\frac{\\partial f}{\\partial x_{m}}^{4} s_{\\overline{xm}}^{4}}{\\nu_{xm}}} = 3.01613866841250 \\approx 3$"
      ],
      "text/plain": [
       "<IPython.core.display.Math object>"
      ]
     },
     "metadata": {},
     "output_type": "display_data"
    },
    {
     "data": {
      "text/latex": [
       "$\\displaystyle \\text{Confidence interval of 95\\,\\%\\,:}\\quad f_{ \\, 95\\%}=(3 \\pm 25) \\, \\Omega$"
      ],
      "text/plain": [
       "<IPython.core.display.Math object>"
      ]
     },
     "metadata": {},
     "output_type": "display_data"
    }
   ],
   "source": [
    "f_2 = f({rho: [1,2,3], x.sym.sdm:10}, vbs=2)"
   ]
  },
  {
   "cell_type": "markdown",
   "metadata": {},
   "source": [
    "Notar que esto no modifica los valores almacenados en `x` o `rho`, para ello existe el método `calc` dentro de cada objeto."
   ]
  },
  {
   "cell_type": "markdown",
   "metadata": {},
   "source": [
    "# Variables correlacionadas"
   ]
  },
  {
   "cell_type": "markdown",
   "metadata": {},
   "source": [
    "Si se tienen dos cantidades correlacionadas, uno puede definir la covarianza entre ellas con la funcion `stats.set_cov`, permitiendo que realice el cálculo, o enviando como algumento el valor de la covarianza.\\\n",
    "Luego se puede acceder al atributo `cov` de una variable, que es un `dict` con la covarianza de esta con el resto."
   ]
  },
  {
   "cell_type": "code",
   "execution_count": 32,
   "metadata": {},
   "outputs": [],
   "source": [
    "from formulab import stats"
   ]
  },
  {
   "cell_type": "code",
   "execution_count": 33,
   "metadata": {},
   "outputs": [
    {
     "data": {
      "text/latex": [
       "$\\displaystyle a = (2.5 \\pm 0.6) \\, c m$"
      ],
      "text/plain": [
       "<IPython.core.display.Math object>"
      ]
     },
     "metadata": {},
     "output_type": "display_data"
    },
    {
     "data": {
      "text/latex": [
       "$\\displaystyle \\text{Confidence interval of 95\\,\\%\\,:}\\quad a_{ \\, 95\\%}=(2.5 \\pm 2.1) \\, c m$"
      ],
      "text/plain": [
       "<IPython.core.display.Math object>"
      ]
     },
     "metadata": {},
     "output_type": "display_data"
    },
    {
     "data": {
      "text/latex": [
       "$\\displaystyle b = (6.5 \\pm 0.6) \\, c m$"
      ],
      "text/plain": [
       "<IPython.core.display.Math object>"
      ]
     },
     "metadata": {},
     "output_type": "display_data"
    },
    {
     "data": {
      "text/latex": [
       "$\\displaystyle \\text{Confidence interval of 95\\,\\%\\,:}\\quad b_{ \\, 95\\%}=(6.5 \\pm 2.1) \\, c m$"
      ],
      "text/plain": [
       "<IPython.core.display.Math object>"
      ]
     },
     "metadata": {},
     "output_type": "display_data"
    }
   ],
   "source": [
    "a = var('a', [1,2,3,4], 'cm')\n",
    "b = var('b', [5,6,7,8], 'cm')"
   ]
  },
  {
   "cell_type": "code",
   "execution_count": 35,
   "metadata": {},
   "outputs": [
    {
     "data": {
      "text/plain": [
       "1.6666666666666665"
      ]
     },
     "execution_count": 35,
     "metadata": {},
     "output_type": "execute_result"
    }
   ],
   "source": [
    "stats.set_cov(a, b)\n",
    "a.cov[b]"
   ]
  },
  {
   "cell_type": "code",
   "execution_count": 36,
   "metadata": {},
   "outputs": [
    {
     "data": {
      "text/plain": [
       "20"
      ]
     },
     "execution_count": 36,
     "metadata": {},
     "output_type": "execute_result"
    }
   ],
   "source": [
    "stats.set_cov(a, b, 20)\n",
    "b.cov[a]"
   ]
  },
  {
   "cell_type": "code",
   "execution_count": null,
   "metadata": {},
   "outputs": [],
   "source": []
  }
 ],
 "metadata": {
  "kernelspec": {
   "display_name": "Python 3",
   "language": "python",
   "name": "python3"
  },
  "language_info": {
   "codemirror_mode": {
    "name": "ipython",
    "version": 3
   },
   "file_extension": ".py",
   "mimetype": "text/x-python",
   "name": "python",
   "nbconvert_exporter": "python",
   "pygments_lexer": "ipython3",
   "version": "3.12.2"
  }
 },
 "nbformat": 4,
 "nbformat_minor": 2
}
