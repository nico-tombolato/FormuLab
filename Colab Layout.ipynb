{
  "cells": [
    {
      "cell_type": "code",
      "execution_count": 4,
      "metadata": {
        "id": "0oCDQy_ygI1O"
      },
      "outputs": [],
      "source": [
        "%%capture\n",
        "!pip install ipympl\n",
        "!git clone https://github.com/nico9772/FormuLab temp\n",
        "!mv temp/* ."
      ]
    },
    {
      "cell_type": "code",
      "execution_count": 5,
      "metadata": {
        "id": "YrtFOYsqgKZ9"
      },
      "outputs": [],
      "source": [
        "from google.colab import output\n",
        "output.enable_custom_widget_manager()\n",
        "\n",
        "from formulab.objects import *\n",
        "\n",
        "%matplotlib widget\n",
        "import matplotlib\n",
        "matplotlib.rcParams['figure.figsize'] = (10, 5)"
      ]
    },
    {
      "cell_type": "code",
      "execution_count": null,
      "metadata": {
        "id": "AkZfeS2giqwb"
      },
      "outputs": [],
      "source": []
    }
  ],
  "metadata": {
    "colab": {
      "provenance": []
    },
    "kernelspec": {
      "display_name": "Python 3",
      "name": "python3"
    },
    "language_info": {
      "name": "python"
    }
  },
  "nbformat": 4,
  "nbformat_minor": 0
}
